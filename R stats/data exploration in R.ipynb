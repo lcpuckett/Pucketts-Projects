{
 "cells": [
  {
   "cell_type": "code",
   "execution_count": null,
   "metadata": {
    "vscode": {
     "languageId": "r"
    }
   },
   "outputs": [],
   "source": [
    "install.packages(\"Ecdat\")\n",
    "library(Ecdat)\n"
   ]
  },
  {
   "cell_type": "code",
   "execution_count": null,
   "metadata": {
    "vscode": {
     "languageId": "r"
    }
   },
   "outputs": [],
   "source": [
    "head(Cigarette)\n",
    "unique(Cigarette$year)\n"
   ]
  },
  {
   "cell_type": "code",
   "execution_count": null,
   "metadata": {
    "vscode": {
     "languageId": "r"
    }
   },
   "outputs": [],
   "source": [
    "\n",
    "#BP average num.packs/capita by state... states with high/low\n",
    "ggplot(Cigarette,aes(x=state,y=packpc))+geom_boxplot()\n"
   ]
  },
  {
   "cell_type": "code",
   "execution_count": null,
   "metadata": {
    "vscode": {
     "languageId": "r"
    }
   },
   "outputs": [],
   "source": [
    "\n",
    "#median pack/cap each year\n",
    "yearlycap=Cigarette%>%group_by(year)%>%summarise(medpack=median(packpc))\n",
    "ggplot(yearlycap,aes(x=year,y=medpack, color=year))+geom_line()+geom_point(aes(size=3))\n"
   ]
  },
  {
   "cell_type": "code",
   "execution_count": null,
   "metadata": {
    "vscode": {
     "languageId": "r"
    }
   },
   "outputs": [],
   "source": [
    "\n",
    "#SCP price per pack vs number of packs per capita for all states and years.\n",
    "ggplot(Cigarette,aes(x=avgprs,y=packpc))+geom_point()+geom_smooth(method=lm,se=TRUE,color=\"aquamarine\")\n"
   ]
  },
  {
   "cell_type": "code",
   "execution_count": null,
   "metadata": {
    "vscode": {
     "languageId": "r"
    }
   },
   "outputs": [],
   "source": [
    "#check correlation\n",
    "cor.test(Cigarette$avgprs, Cigarette$packpc, method=\"pearson\",use=\"complete.obs\")\n",
    "#change color and check relation\n",
    "ggplot(Cigarette,aes(x=avgprs,y=packpc,color=year))+geom_point()+geom_smooth(method=lm,se=TRUE,color=\"aquamarine\")"
   ]
  },
  {
   "cell_type": "code",
   "execution_count": null,
   "metadata": {
    "vscode": {
     "languageId": "r"
    }
   },
   "outputs": [],
   "source": [
    "\n",
    "#linear regression\n",
    "LR=lm(avgprs~packpc,Cigarette)\n",
    "summary(LR)\n"
   ]
  },
  {
   "cell_type": "code",
   "execution_count": null,
   "metadata": {
    "vscode": {
     "languageId": "r"
    }
   },
   "outputs": [],
   "source": [
    "\n",
    "#adjust for inflation(dividing the avgprs variable by the cpi variable. )\n",
    "Cigarette$inflation=c(Cigarette$avgprs/Cigarette$cpi)\n",
    "ggplot(Cigarette,aes(x=inflation,y=packpc,color=year))+geom_point()+geom_smooth(method=lm,se=TRUE,color=\"aquamarine\")\n",
    "AR=lm(inflation~packpc,Cigarette)\n",
    "summary(AR)\n"
   ]
  },
  {
   "cell_type": "code",
   "execution_count": null,
   "metadata": {
    "vscode": {
     "languageId": "r"
    }
   },
   "outputs": [],
   "source": [
    "\n",
    "#create data frames\n",
    "y1985=data.frame(filter(Cigarette,year==\"1985\"))\n",
    "y1995=data.frame(filter(Cigarette,year==\"1995\"))\n",
    "y1985$packpc\n",
    "y1995$packpc\n",
    "compare=t.test(y1995$packpc,y1985$packpc,paired=TRUE)\n",
    "compare"
   ]
  }
 ],
 "metadata": {
  "kernelspec": {
   "display_name": "R",
   "language": "R",
   "name": "ir"
  },
  "language_info": {
   "name": "R"
  },
  "orig_nbformat": 4
 },
 "nbformat": 4,
 "nbformat_minor": 2
}
