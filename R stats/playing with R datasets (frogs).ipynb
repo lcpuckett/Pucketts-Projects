{
 "cells": [
  {
   "cell_type": "code",
   "execution_count": 1,
   "id": "c93237c0-d8dc-446a-8e42-f6e7aeac208d",
   "metadata": {},
   "outputs": [
    {
     "name": "stdout",
     "output_type": "stream",
     "text": [
      "package 'DAAG' successfully unpacked and MD5 sums checked\n",
      "\n",
      "The downloaded binary packages are in\n",
      "\tC:\\Users\\latri\\AppData\\Local\\Temp\\RtmpOcYMjJ\\downloaded_packages\n"
     ]
    },
    {
     "name": "stderr",
     "output_type": "stream",
     "text": [
      "Warning message:\n",
      "\"package 'DAAG' was built under R version 4.1.3\"\n"
     ]
    }
   ],
   "source": [
    "install.packages(\"DAAG\")\n",
    "library(\"DAAG\")"
   ]
  },
  {
   "cell_type": "code",
   "execution_count": 3,
   "id": "51898fd8-4daa-4521-bfd2-b64e5e1a41a8",
   "metadata": {},
   "outputs": [
    {
     "name": "stdout",
     "output_type": "stream",
     "text": [
      "package 'ggplot2' successfully unpacked and MD5 sums checked\n",
      "\n",
      "The downloaded binary packages are in\n",
      "\tC:\\Users\\latri\\AppData\\Local\\Temp\\RtmpOcYMjJ\\downloaded_packages\n"
     ]
    },
    {
     "name": "stderr",
     "output_type": "stream",
     "text": [
      "Warning message:\n",
      "\"package 'ggplot2' was built under R version 4.1.3\"\n"
     ]
    }
   ],
   "source": [
    "install.packages(\"ggplot2\")\n",
    "library(\"ggplot2\")"
   ]
  },
  {
   "cell_type": "code",
   "execution_count": 5,
   "id": "bfa986fc-f4ff-4bd6-abdd-19e61d9342ce",
   "metadata": {},
   "outputs": [
    {
     "name": "stdout",
     "output_type": "stream",
     "text": [
      "package 'rcompanion' successfully unpacked and MD5 sums checked\n",
      "\n",
      "The downloaded binary packages are in\n",
      "\tC:\\Users\\latri\\AppData\\Local\\Temp\\RtmpOcYMjJ\\downloaded_packages\n"
     ]
    },
    {
     "name": "stderr",
     "output_type": "stream",
     "text": [
      "Warning message:\n",
      "\"package 'rcompanion' was built under R version 4.1.3\"\n"
     ]
    }
   ],
   "source": [
    "install.packages(\"rcompanion\")\n",
    "library(\"rcompanion\")"
   ]
  },
  {
   "cell_type": "code",
   "execution_count": 2,
   "id": "9da791fa-e64c-4c63-b6db-26f4b3a266ab",
   "metadata": {},
   "outputs": [
    {
     "data": {
      "text/html": [
       "<table class=\"dataframe\">\n",
       "<caption>A data.frame: 212 × 10</caption>\n",
       "<thead>\n",
       "\t<tr><th></th><th scope=col>pres.abs</th><th scope=col>northing</th><th scope=col>easting</th><th scope=col>altitude</th><th scope=col>distance</th><th scope=col>NoOfPools</th><th scope=col>NoOfSites</th><th scope=col>avrain</th><th scope=col>meanmin</th><th scope=col>meanmax</th></tr>\n",
       "\t<tr><th></th><th scope=col>&lt;dbl&gt;</th><th scope=col>&lt;dbl&gt;</th><th scope=col>&lt;dbl&gt;</th><th scope=col>&lt;dbl&gt;</th><th scope=col>&lt;dbl&gt;</th><th scope=col>&lt;dbl&gt;</th><th scope=col>&lt;dbl&gt;</th><th scope=col>&lt;dbl&gt;</th><th scope=col>&lt;dbl&gt;</th><th scope=col>&lt;dbl&gt;</th></tr>\n",
       "</thead>\n",
       "<tbody>\n",
       "\t<tr><th scope=row>2</th><td>1</td><td>115</td><td>1047</td><td>1500</td><td>500</td><td>232</td><td>3</td><td>155.0000</td><td>3.566667</td><td>14.00000</td></tr>\n",
       "\t<tr><th scope=row>3</th><td>1</td><td>110</td><td>1042</td><td>1520</td><td>250</td><td> 66</td><td>5</td><td>157.6667</td><td>3.466667</td><td>13.80000</td></tr>\n",
       "\t<tr><th scope=row>4</th><td>1</td><td>112</td><td>1040</td><td>1540</td><td>250</td><td> 32</td><td>5</td><td>159.6667</td><td>3.400000</td><td>13.60000</td></tr>\n",
       "\t<tr><th scope=row>5</th><td>1</td><td>109</td><td>1033</td><td>1590</td><td>250</td><td>  9</td><td>5</td><td>165.0000</td><td>3.200000</td><td>13.16667</td></tr>\n",
       "\t<tr><th scope=row>6</th><td>1</td><td>109</td><td>1032</td><td>1590</td><td>250</td><td> 67</td><td>5</td><td>165.0000</td><td>3.200000</td><td>13.16667</td></tr>\n",
       "\t<tr><th scope=row>7</th><td>1</td><td>106</td><td>1018</td><td>1600</td><td>500</td><td> 12</td><td>4</td><td>167.3333</td><td>3.133333</td><td>13.06667</td></tr>\n",
       "\t<tr><th scope=row>8</th><td>1</td><td>105</td><td>1015</td><td>1600</td><td>250</td><td> 30</td><td>3</td><td>167.3333</td><td>3.100000</td><td>13.06667</td></tr>\n",
       "\t<tr><th scope=row>9</th><td>1</td><td> 84</td><td>1014</td><td>1560</td><td>750</td><td> 13</td><td>2</td><td>165.0000</td><td>3.300000</td><td>13.40000</td></tr>\n",
       "\t<tr><th scope=row>10</th><td>1</td><td> 88</td><td>1023</td><td>1560</td><td>250</td><td>  4</td><td>3</td><td>164.0000</td><td>3.300000</td><td>13.43333</td></tr>\n",
       "\t<tr><th scope=row>11</th><td>1</td><td> 91</td><td>1025</td><td>1560</td><td>250</td><td> 14</td><td>4</td><td>164.0000</td><td>3.300000</td><td>13.43333</td></tr>\n",
       "\t<tr><th scope=row>12</th><td>1</td><td>105</td><td>1037</td><td>1580</td><td>500</td><td>  9</td><td>5</td><td>164.3333</td><td>3.233333</td><td>13.26667</td></tr>\n",
       "\t<tr><th scope=row>13</th><td>1</td><td>110</td><td>1047</td><td>1520</td><td>500</td><td> 11</td><td>3</td><td>157.6667</td><td>3.466667</td><td>13.80000</td></tr>\n",
       "\t<tr><th scope=row>14</th><td>1</td><td> 98</td><td>1019</td><td>1460</td><td>750</td><td>  7</td><td>7</td><td>153.3333</td><td>3.666667</td><td>14.30000</td></tr>\n",
       "\t<tr><th scope=row>15</th><td>1</td><td> 91</td><td>1018</td><td>1510</td><td>250</td><td> 16</td><td>5</td><td>159.0000</td><td>3.500000</td><td>13.86667</td></tr>\n",
       "\t<tr><th scope=row>16</th><td>1</td><td> 89</td><td>1020</td><td>1520</td><td>250</td><td> 10</td><td>5</td><td>160.3333</td><td>3.466667</td><td>13.76667</td></tr>\n",
       "\t<tr><th scope=row>17</th><td>1</td><td>198</td><td>1090</td><td>1320</td><td>500</td><td> 24</td><td>4</td><td>129.0000</td><td>4.100000</td><td>15.70000</td></tr>\n",
       "\t<tr><th scope=row>18</th><td>1</td><td>197</td><td>1086</td><td>1320</td><td>500</td><td>  8</td><td>2</td><td>129.3333</td><td>4.100000</td><td>15.70000</td></tr>\n",
       "\t<tr><th scope=row>19</th><td>1</td><td>190</td><td>1119</td><td>1300</td><td>500</td><td>  6</td><td>5</td><td>127.0000</td><td>4.233333</td><td>15.83333</td></tr>\n",
       "\t<tr><th scope=row>20</th><td>1</td><td>194</td><td>1117</td><td>1300</td><td>250</td><td> 19</td><td>5</td><td>126.3333</td><td>4.233333</td><td>15.86667</td></tr>\n",
       "\t<tr><th scope=row>21</th><td>1</td><td>192</td><td>1100</td><td>1320</td><td>250</td><td> 20</td><td>6</td><td>129.3333</td><td>4.133333</td><td>15.70000</td></tr>\n",
       "\t<tr><th scope=row>22</th><td>1</td><td>191</td><td>1103</td><td>1320</td><td>250</td><td> 10</td><td>6</td><td>129.3333</td><td>4.133333</td><td>15.70000</td></tr>\n",
       "\t<tr><th scope=row>23</th><td>1</td><td>200</td><td>1127</td><td>1320</td><td>500</td><td>  2</td><td>3</td><td>128.3333</td><td>4.133333</td><td>15.70000</td></tr>\n",
       "\t<tr><th scope=row>24</th><td>1</td><td>192</td><td>1108</td><td>1320</td><td>500</td><td> 20</td><td>7</td><td>129.0000</td><td>4.133333</td><td>15.70000</td></tr>\n",
       "\t<tr><th scope=row>25</th><td>1</td><td>187</td><td>1105</td><td>1300</td><td>250</td><td> 34</td><td>6</td><td>127.3333</td><td>4.233333</td><td>15.83333</td></tr>\n",
       "\t<tr><th scope=row>26</th><td>1</td><td>187</td><td>1108</td><td>1300</td><td>250</td><td>  6</td><td>5</td><td>127.0000</td><td>4.233333</td><td>15.83333</td></tr>\n",
       "\t<tr><th scope=row>27</th><td>1</td><td>204</td><td>1130</td><td>1340</td><td>500</td><td>  3</td><td>1</td><td>129.6667</td><td>4.100000</td><td>15.50000</td></tr>\n",
       "\t<tr><th scope=row>28</th><td>1</td><td>195</td><td>1119</td><td>1300</td><td>250</td><td> 14</td><td>6</td><td>126.3333</td><td>4.233333</td><td>15.86667</td></tr>\n",
       "\t<tr><th scope=row>29</th><td>1</td><td>136</td><td>1101</td><td>1300</td><td>250</td><td>  9</td><td>3</td><td>131.0000</td><td>4.333333</td><td>15.76667</td></tr>\n",
       "\t<tr><th scope=row>30</th><td>1</td><td>133</td><td>1098</td><td>1300</td><td>250</td><td>  8</td><td>3</td><td>131.3333</td><td>4.333333</td><td>15.76667</td></tr>\n",
       "\t<tr><th scope=row>31</th><td>1</td><td>201</td><td>1216</td><td>1400</td><td>750</td><td> 11</td><td>2</td><td>134.6667</td><td>4.066667</td><td>14.93333</td></tr>\n",
       "\t<tr><th scope=row>...</th><td>...</td><td>...</td><td>...</td><td>...</td><td>...</td><td>...</td><td>...</td><td>...</td><td>...</td><td>...</td></tr>\n",
       "\t<tr><th scope=row>184</th><td>1</td><td>203</td><td> 962</td><td>1680</td><td>1500</td><td> 42</td><td>0</td><td>166.6667</td><td>2.566667</td><td>12.46667</td></tr>\n",
       "\t<tr><th scope=row>185</th><td>0</td><td>136</td><td>1097</td><td>1300</td><td> 500</td><td>  6</td><td>3</td><td>131.0000</td><td>4.266667</td><td>15.76667</td></tr>\n",
       "\t<tr><th scope=row>186</th><td>0</td><td>208</td><td>1219</td><td>1350</td><td> 750</td><td> 21</td><td>2</td><td>129.0000</td><td>4.133333</td><td>15.43333</td></tr>\n",
       "\t<tr><th scope=row>187</th><td>0</td><td>126</td><td>1120</td><td>1500</td><td>2000</td><td>  6</td><td>1</td><td>151.6667</td><td>3.666667</td><td>13.96667</td></tr>\n",
       "\t<tr><th scope=row>188</th><td>0</td><td>132</td><td>1130</td><td>1520</td><td>2750</td><td>  4</td><td>1</td><td>153.0000</td><td>3.633333</td><td>13.83333</td></tr>\n",
       "\t<tr><th scope=row>189</th><td>0</td><td>317</td><td> 998</td><td>1700</td><td>1500</td><td>  8</td><td>0</td><td>152.6667</td><td>2.400000</td><td>12.46667</td></tr>\n",
       "\t<tr><th scope=row>190</th><td>0</td><td>304</td><td> 988</td><td>1660</td><td>2000</td><td> 24</td><td>1</td><td>149.6667</td><td>2.533333</td><td>12.76667</td></tr>\n",
       "\t<tr><th scope=row>191</th><td>0</td><td>295</td><td> 984</td><td>1680</td><td>2500</td><td> 34</td><td>2</td><td>153.0000</td><td>2.466667</td><td>12.63333</td></tr>\n",
       "\t<tr><th scope=row>192</th><td>0</td><td>289</td><td> 990</td><td>1700</td><td>1750</td><td> 42</td><td>2</td><td>156.3333</td><td>2.400000</td><td>12.43333</td></tr>\n",
       "\t<tr><th scope=row>193</th><td>0</td><td>280</td><td> 985</td><td>1800</td><td>2250</td><td>112</td><td>1</td><td>170.0000</td><td>2.033333</td><td>11.60000</td></tr>\n",
       "\t<tr><th scope=row>194</th><td>0</td><td>270</td><td> 978</td><td>1790</td><td>3250</td><td> 26</td><td>0</td><td>170.0000</td><td>2.066667</td><td>11.63333</td></tr>\n",
       "\t<tr><th scope=row>195</th><td>0</td><td>268</td><td> 995</td><td>1720</td><td>2000</td><td> 22</td><td>1</td><td>161.6667</td><td>2.333333</td><td>12.23333</td></tr>\n",
       "\t<tr><th scope=row>196</th><td>0</td><td>273</td><td>1002</td><td>1760</td><td>1000</td><td> 18</td><td>2</td><td>165.6667</td><td>2.233333</td><td>11.90000</td></tr>\n",
       "\t<tr><th scope=row>197</th><td>0</td><td>119</td><td>1003</td><td>1600</td><td> 500</td><td>  6</td><td>3</td><td>166.6667</td><td>3.100000</td><td>13.06667</td></tr>\n",
       "\t<tr><th scope=row>198</th><td>0</td><td>132</td><td>1092</td><td>1280</td><td> 750</td><td>  5</td><td>3</td><td>129.0000</td><td>4.333333</td><td>15.96667</td></tr>\n",
       "\t<tr><th scope=row>199</th><td>0</td><td>217</td><td>1017</td><td>1600</td><td> 750</td><td> 23</td><td>4</td><td>155.0000</td><td>2.966667</td><td>13.16667</td></tr>\n",
       "\t<tr><th scope=row>200</th><td>0</td><td>228</td><td> 984</td><td>1600</td><td> 750</td><td>  4</td><td>3</td><td>154.3333</td><td>2.866667</td><td>13.16667</td></tr>\n",
       "\t<tr><th scope=row>201</th><td>0</td><td>246</td><td>1000</td><td>1600</td><td> 500</td><td>  3</td><td>1</td><td>151.6667</td><td>2.866667</td><td>13.26667</td></tr>\n",
       "\t<tr><th scope=row>202</th><td>0</td><td>226</td><td> 968</td><td>1600</td><td>1500</td><td>  6</td><td>0</td><td>155.0000</td><td>2.866667</td><td>13.16667</td></tr>\n",
       "\t<tr><th scope=row>203</th><td>0</td><td>212</td><td> 998</td><td>1600</td><td> 750</td><td> 16</td><td>5</td><td>156.3333</td><td>2.966667</td><td>13.16667</td></tr>\n",
       "\t<tr><th scope=row>204</th><td>0</td><td>220</td><td>1051</td><td>1580</td><td>1000</td><td>  3</td><td>2</td><td>152.3333</td><td>3.100000</td><td>13.36667</td></tr>\n",
       "\t<tr><th scope=row>205</th><td>0</td><td>224</td><td> 988</td><td>1610</td><td> 750</td><td> 12</td><td>5</td><td>155.6667</td><td>2.866667</td><td>13.10000</td></tr>\n",
       "\t<tr><th scope=row>206</th><td>0</td><td>255</td><td>1008</td><td>1620</td><td>1500</td><td>  8</td><td>2</td><td>152.3333</td><td>2.833333</td><td>13.06667</td></tr>\n",
       "\t<tr><th scope=row>207</th><td>0</td><td>289</td><td>1033</td><td>1640</td><td>2000</td><td>  4</td><td>0</td><td>149.3333</td><td>2.733333</td><td>12.96667</td></tr>\n",
       "\t<tr><th scope=row>208</th><td>0</td><td>295</td><td>1046</td><td>1580</td><td>1500</td><td>  6</td><td>2</td><td>143.3333</td><td>2.966667</td><td>13.50000</td></tr>\n",
       "\t<tr><th scope=row>209</th><td>0</td><td>143</td><td>1047</td><td>1300</td><td>3000</td><td>  4</td><td>0</td><td>132.3333</td><td>4.200000</td><td>15.80000</td></tr>\n",
       "\t<tr><th scope=row>210</th><td>0</td><td>299</td><td> 730</td><td>1580</td><td>8000</td><td> 16</td><td>0</td><td>138.0000</td><td>2.433333</td><td>13.40000</td></tr>\n",
       "\t<tr><th scope=row>211</th><td>0</td><td>287</td><td> 730</td><td>1640</td><td>9000</td><td>  8</td><td>3</td><td>150.3333</td><td>2.266667</td><td>12.76667</td></tr>\n",
       "\t<tr><th scope=row>212</th><td>0</td><td>269</td><td> 729</td><td>1660</td><td>9500</td><td> 30</td><td>1</td><td>157.0000</td><td>2.266667</td><td>12.53333</td></tr>\n",
       "\t<tr><th scope=row>213</th><td>0</td><td>186</td><td>1108</td><td>1440</td><td>2750</td><td>  8</td><td>0</td><td>142.3333</td><td>3.766667</td><td>14.53333</td></tr>\n",
       "</tbody>\n",
       "</table>\n"
      ],
      "text/latex": [
       "A data.frame: 212 × 10\n",
       "\\begin{tabular}{r|llllllllll}\n",
       "  & pres.abs & northing & easting & altitude & distance & NoOfPools & NoOfSites & avrain & meanmin & meanmax\\\\\n",
       "  & <dbl> & <dbl> & <dbl> & <dbl> & <dbl> & <dbl> & <dbl> & <dbl> & <dbl> & <dbl>\\\\\n",
       "\\hline\n",
       "\t2 & 1 & 115 & 1047 & 1500 & 500 & 232 & 3 & 155.0000 & 3.566667 & 14.00000\\\\\n",
       "\t3 & 1 & 110 & 1042 & 1520 & 250 &  66 & 5 & 157.6667 & 3.466667 & 13.80000\\\\\n",
       "\t4 & 1 & 112 & 1040 & 1540 & 250 &  32 & 5 & 159.6667 & 3.400000 & 13.60000\\\\\n",
       "\t5 & 1 & 109 & 1033 & 1590 & 250 &   9 & 5 & 165.0000 & 3.200000 & 13.16667\\\\\n",
       "\t6 & 1 & 109 & 1032 & 1590 & 250 &  67 & 5 & 165.0000 & 3.200000 & 13.16667\\\\\n",
       "\t7 & 1 & 106 & 1018 & 1600 & 500 &  12 & 4 & 167.3333 & 3.133333 & 13.06667\\\\\n",
       "\t8 & 1 & 105 & 1015 & 1600 & 250 &  30 & 3 & 167.3333 & 3.100000 & 13.06667\\\\\n",
       "\t9 & 1 &  84 & 1014 & 1560 & 750 &  13 & 2 & 165.0000 & 3.300000 & 13.40000\\\\\n",
       "\t10 & 1 &  88 & 1023 & 1560 & 250 &   4 & 3 & 164.0000 & 3.300000 & 13.43333\\\\\n",
       "\t11 & 1 &  91 & 1025 & 1560 & 250 &  14 & 4 & 164.0000 & 3.300000 & 13.43333\\\\\n",
       "\t12 & 1 & 105 & 1037 & 1580 & 500 &   9 & 5 & 164.3333 & 3.233333 & 13.26667\\\\\n",
       "\t13 & 1 & 110 & 1047 & 1520 & 500 &  11 & 3 & 157.6667 & 3.466667 & 13.80000\\\\\n",
       "\t14 & 1 &  98 & 1019 & 1460 & 750 &   7 & 7 & 153.3333 & 3.666667 & 14.30000\\\\\n",
       "\t15 & 1 &  91 & 1018 & 1510 & 250 &  16 & 5 & 159.0000 & 3.500000 & 13.86667\\\\\n",
       "\t16 & 1 &  89 & 1020 & 1520 & 250 &  10 & 5 & 160.3333 & 3.466667 & 13.76667\\\\\n",
       "\t17 & 1 & 198 & 1090 & 1320 & 500 &  24 & 4 & 129.0000 & 4.100000 & 15.70000\\\\\n",
       "\t18 & 1 & 197 & 1086 & 1320 & 500 &   8 & 2 & 129.3333 & 4.100000 & 15.70000\\\\\n",
       "\t19 & 1 & 190 & 1119 & 1300 & 500 &   6 & 5 & 127.0000 & 4.233333 & 15.83333\\\\\n",
       "\t20 & 1 & 194 & 1117 & 1300 & 250 &  19 & 5 & 126.3333 & 4.233333 & 15.86667\\\\\n",
       "\t21 & 1 & 192 & 1100 & 1320 & 250 &  20 & 6 & 129.3333 & 4.133333 & 15.70000\\\\\n",
       "\t22 & 1 & 191 & 1103 & 1320 & 250 &  10 & 6 & 129.3333 & 4.133333 & 15.70000\\\\\n",
       "\t23 & 1 & 200 & 1127 & 1320 & 500 &   2 & 3 & 128.3333 & 4.133333 & 15.70000\\\\\n",
       "\t24 & 1 & 192 & 1108 & 1320 & 500 &  20 & 7 & 129.0000 & 4.133333 & 15.70000\\\\\n",
       "\t25 & 1 & 187 & 1105 & 1300 & 250 &  34 & 6 & 127.3333 & 4.233333 & 15.83333\\\\\n",
       "\t26 & 1 & 187 & 1108 & 1300 & 250 &   6 & 5 & 127.0000 & 4.233333 & 15.83333\\\\\n",
       "\t27 & 1 & 204 & 1130 & 1340 & 500 &   3 & 1 & 129.6667 & 4.100000 & 15.50000\\\\\n",
       "\t28 & 1 & 195 & 1119 & 1300 & 250 &  14 & 6 & 126.3333 & 4.233333 & 15.86667\\\\\n",
       "\t29 & 1 & 136 & 1101 & 1300 & 250 &   9 & 3 & 131.0000 & 4.333333 & 15.76667\\\\\n",
       "\t30 & 1 & 133 & 1098 & 1300 & 250 &   8 & 3 & 131.3333 & 4.333333 & 15.76667\\\\\n",
       "\t31 & 1 & 201 & 1216 & 1400 & 750 &  11 & 2 & 134.6667 & 4.066667 & 14.93333\\\\\n",
       "\t... & ... & ... & ... & ... & ... & ... & ... & ... & ... & ...\\\\\n",
       "\t184 & 1 & 203 &  962 & 1680 & 1500 &  42 & 0 & 166.6667 & 2.566667 & 12.46667\\\\\n",
       "\t185 & 0 & 136 & 1097 & 1300 &  500 &   6 & 3 & 131.0000 & 4.266667 & 15.76667\\\\\n",
       "\t186 & 0 & 208 & 1219 & 1350 &  750 &  21 & 2 & 129.0000 & 4.133333 & 15.43333\\\\\n",
       "\t187 & 0 & 126 & 1120 & 1500 & 2000 &   6 & 1 & 151.6667 & 3.666667 & 13.96667\\\\\n",
       "\t188 & 0 & 132 & 1130 & 1520 & 2750 &   4 & 1 & 153.0000 & 3.633333 & 13.83333\\\\\n",
       "\t189 & 0 & 317 &  998 & 1700 & 1500 &   8 & 0 & 152.6667 & 2.400000 & 12.46667\\\\\n",
       "\t190 & 0 & 304 &  988 & 1660 & 2000 &  24 & 1 & 149.6667 & 2.533333 & 12.76667\\\\\n",
       "\t191 & 0 & 295 &  984 & 1680 & 2500 &  34 & 2 & 153.0000 & 2.466667 & 12.63333\\\\\n",
       "\t192 & 0 & 289 &  990 & 1700 & 1750 &  42 & 2 & 156.3333 & 2.400000 & 12.43333\\\\\n",
       "\t193 & 0 & 280 &  985 & 1800 & 2250 & 112 & 1 & 170.0000 & 2.033333 & 11.60000\\\\\n",
       "\t194 & 0 & 270 &  978 & 1790 & 3250 &  26 & 0 & 170.0000 & 2.066667 & 11.63333\\\\\n",
       "\t195 & 0 & 268 &  995 & 1720 & 2000 &  22 & 1 & 161.6667 & 2.333333 & 12.23333\\\\\n",
       "\t196 & 0 & 273 & 1002 & 1760 & 1000 &  18 & 2 & 165.6667 & 2.233333 & 11.90000\\\\\n",
       "\t197 & 0 & 119 & 1003 & 1600 &  500 &   6 & 3 & 166.6667 & 3.100000 & 13.06667\\\\\n",
       "\t198 & 0 & 132 & 1092 & 1280 &  750 &   5 & 3 & 129.0000 & 4.333333 & 15.96667\\\\\n",
       "\t199 & 0 & 217 & 1017 & 1600 &  750 &  23 & 4 & 155.0000 & 2.966667 & 13.16667\\\\\n",
       "\t200 & 0 & 228 &  984 & 1600 &  750 &   4 & 3 & 154.3333 & 2.866667 & 13.16667\\\\\n",
       "\t201 & 0 & 246 & 1000 & 1600 &  500 &   3 & 1 & 151.6667 & 2.866667 & 13.26667\\\\\n",
       "\t202 & 0 & 226 &  968 & 1600 & 1500 &   6 & 0 & 155.0000 & 2.866667 & 13.16667\\\\\n",
       "\t203 & 0 & 212 &  998 & 1600 &  750 &  16 & 5 & 156.3333 & 2.966667 & 13.16667\\\\\n",
       "\t204 & 0 & 220 & 1051 & 1580 & 1000 &   3 & 2 & 152.3333 & 3.100000 & 13.36667\\\\\n",
       "\t205 & 0 & 224 &  988 & 1610 &  750 &  12 & 5 & 155.6667 & 2.866667 & 13.10000\\\\\n",
       "\t206 & 0 & 255 & 1008 & 1620 & 1500 &   8 & 2 & 152.3333 & 2.833333 & 13.06667\\\\\n",
       "\t207 & 0 & 289 & 1033 & 1640 & 2000 &   4 & 0 & 149.3333 & 2.733333 & 12.96667\\\\\n",
       "\t208 & 0 & 295 & 1046 & 1580 & 1500 &   6 & 2 & 143.3333 & 2.966667 & 13.50000\\\\\n",
       "\t209 & 0 & 143 & 1047 & 1300 & 3000 &   4 & 0 & 132.3333 & 4.200000 & 15.80000\\\\\n",
       "\t210 & 0 & 299 &  730 & 1580 & 8000 &  16 & 0 & 138.0000 & 2.433333 & 13.40000\\\\\n",
       "\t211 & 0 & 287 &  730 & 1640 & 9000 &   8 & 3 & 150.3333 & 2.266667 & 12.76667\\\\\n",
       "\t212 & 0 & 269 &  729 & 1660 & 9500 &  30 & 1 & 157.0000 & 2.266667 & 12.53333\\\\\n",
       "\t213 & 0 & 186 & 1108 & 1440 & 2750 &   8 & 0 & 142.3333 & 3.766667 & 14.53333\\\\\n",
       "\\end{tabular}\n"
      ],
      "text/markdown": [
       "\n",
       "A data.frame: 212 × 10\n",
       "\n",
       "| <!--/--> | pres.abs &lt;dbl&gt; | northing &lt;dbl&gt; | easting &lt;dbl&gt; | altitude &lt;dbl&gt; | distance &lt;dbl&gt; | NoOfPools &lt;dbl&gt; | NoOfSites &lt;dbl&gt; | avrain &lt;dbl&gt; | meanmin &lt;dbl&gt; | meanmax &lt;dbl&gt; |\n",
       "|---|---|---|---|---|---|---|---|---|---|---|\n",
       "| 2 | 1 | 115 | 1047 | 1500 | 500 | 232 | 3 | 155.0000 | 3.566667 | 14.00000 |\n",
       "| 3 | 1 | 110 | 1042 | 1520 | 250 |  66 | 5 | 157.6667 | 3.466667 | 13.80000 |\n",
       "| 4 | 1 | 112 | 1040 | 1540 | 250 |  32 | 5 | 159.6667 | 3.400000 | 13.60000 |\n",
       "| 5 | 1 | 109 | 1033 | 1590 | 250 |   9 | 5 | 165.0000 | 3.200000 | 13.16667 |\n",
       "| 6 | 1 | 109 | 1032 | 1590 | 250 |  67 | 5 | 165.0000 | 3.200000 | 13.16667 |\n",
       "| 7 | 1 | 106 | 1018 | 1600 | 500 |  12 | 4 | 167.3333 | 3.133333 | 13.06667 |\n",
       "| 8 | 1 | 105 | 1015 | 1600 | 250 |  30 | 3 | 167.3333 | 3.100000 | 13.06667 |\n",
       "| 9 | 1 |  84 | 1014 | 1560 | 750 |  13 | 2 | 165.0000 | 3.300000 | 13.40000 |\n",
       "| 10 | 1 |  88 | 1023 | 1560 | 250 |   4 | 3 | 164.0000 | 3.300000 | 13.43333 |\n",
       "| 11 | 1 |  91 | 1025 | 1560 | 250 |  14 | 4 | 164.0000 | 3.300000 | 13.43333 |\n",
       "| 12 | 1 | 105 | 1037 | 1580 | 500 |   9 | 5 | 164.3333 | 3.233333 | 13.26667 |\n",
       "| 13 | 1 | 110 | 1047 | 1520 | 500 |  11 | 3 | 157.6667 | 3.466667 | 13.80000 |\n",
       "| 14 | 1 |  98 | 1019 | 1460 | 750 |   7 | 7 | 153.3333 | 3.666667 | 14.30000 |\n",
       "| 15 | 1 |  91 | 1018 | 1510 | 250 |  16 | 5 | 159.0000 | 3.500000 | 13.86667 |\n",
       "| 16 | 1 |  89 | 1020 | 1520 | 250 |  10 | 5 | 160.3333 | 3.466667 | 13.76667 |\n",
       "| 17 | 1 | 198 | 1090 | 1320 | 500 |  24 | 4 | 129.0000 | 4.100000 | 15.70000 |\n",
       "| 18 | 1 | 197 | 1086 | 1320 | 500 |   8 | 2 | 129.3333 | 4.100000 | 15.70000 |\n",
       "| 19 | 1 | 190 | 1119 | 1300 | 500 |   6 | 5 | 127.0000 | 4.233333 | 15.83333 |\n",
       "| 20 | 1 | 194 | 1117 | 1300 | 250 |  19 | 5 | 126.3333 | 4.233333 | 15.86667 |\n",
       "| 21 | 1 | 192 | 1100 | 1320 | 250 |  20 | 6 | 129.3333 | 4.133333 | 15.70000 |\n",
       "| 22 | 1 | 191 | 1103 | 1320 | 250 |  10 | 6 | 129.3333 | 4.133333 | 15.70000 |\n",
       "| 23 | 1 | 200 | 1127 | 1320 | 500 |   2 | 3 | 128.3333 | 4.133333 | 15.70000 |\n",
       "| 24 | 1 | 192 | 1108 | 1320 | 500 |  20 | 7 | 129.0000 | 4.133333 | 15.70000 |\n",
       "| 25 | 1 | 187 | 1105 | 1300 | 250 |  34 | 6 | 127.3333 | 4.233333 | 15.83333 |\n",
       "| 26 | 1 | 187 | 1108 | 1300 | 250 |   6 | 5 | 127.0000 | 4.233333 | 15.83333 |\n",
       "| 27 | 1 | 204 | 1130 | 1340 | 500 |   3 | 1 | 129.6667 | 4.100000 | 15.50000 |\n",
       "| 28 | 1 | 195 | 1119 | 1300 | 250 |  14 | 6 | 126.3333 | 4.233333 | 15.86667 |\n",
       "| 29 | 1 | 136 | 1101 | 1300 | 250 |   9 | 3 | 131.0000 | 4.333333 | 15.76667 |\n",
       "| 30 | 1 | 133 | 1098 | 1300 | 250 |   8 | 3 | 131.3333 | 4.333333 | 15.76667 |\n",
       "| 31 | 1 | 201 | 1216 | 1400 | 750 |  11 | 2 | 134.6667 | 4.066667 | 14.93333 |\n",
       "| ... | ... | ... | ... | ... | ... | ... | ... | ... | ... | ... |\n",
       "| 184 | 1 | 203 |  962 | 1680 | 1500 |  42 | 0 | 166.6667 | 2.566667 | 12.46667 |\n",
       "| 185 | 0 | 136 | 1097 | 1300 |  500 |   6 | 3 | 131.0000 | 4.266667 | 15.76667 |\n",
       "| 186 | 0 | 208 | 1219 | 1350 |  750 |  21 | 2 | 129.0000 | 4.133333 | 15.43333 |\n",
       "| 187 | 0 | 126 | 1120 | 1500 | 2000 |   6 | 1 | 151.6667 | 3.666667 | 13.96667 |\n",
       "| 188 | 0 | 132 | 1130 | 1520 | 2750 |   4 | 1 | 153.0000 | 3.633333 | 13.83333 |\n",
       "| 189 | 0 | 317 |  998 | 1700 | 1500 |   8 | 0 | 152.6667 | 2.400000 | 12.46667 |\n",
       "| 190 | 0 | 304 |  988 | 1660 | 2000 |  24 | 1 | 149.6667 | 2.533333 | 12.76667 |\n",
       "| 191 | 0 | 295 |  984 | 1680 | 2500 |  34 | 2 | 153.0000 | 2.466667 | 12.63333 |\n",
       "| 192 | 0 | 289 |  990 | 1700 | 1750 |  42 | 2 | 156.3333 | 2.400000 | 12.43333 |\n",
       "| 193 | 0 | 280 |  985 | 1800 | 2250 | 112 | 1 | 170.0000 | 2.033333 | 11.60000 |\n",
       "| 194 | 0 | 270 |  978 | 1790 | 3250 |  26 | 0 | 170.0000 | 2.066667 | 11.63333 |\n",
       "| 195 | 0 | 268 |  995 | 1720 | 2000 |  22 | 1 | 161.6667 | 2.333333 | 12.23333 |\n",
       "| 196 | 0 | 273 | 1002 | 1760 | 1000 |  18 | 2 | 165.6667 | 2.233333 | 11.90000 |\n",
       "| 197 | 0 | 119 | 1003 | 1600 |  500 |   6 | 3 | 166.6667 | 3.100000 | 13.06667 |\n",
       "| 198 | 0 | 132 | 1092 | 1280 |  750 |   5 | 3 | 129.0000 | 4.333333 | 15.96667 |\n",
       "| 199 | 0 | 217 | 1017 | 1600 |  750 |  23 | 4 | 155.0000 | 2.966667 | 13.16667 |\n",
       "| 200 | 0 | 228 |  984 | 1600 |  750 |   4 | 3 | 154.3333 | 2.866667 | 13.16667 |\n",
       "| 201 | 0 | 246 | 1000 | 1600 |  500 |   3 | 1 | 151.6667 | 2.866667 | 13.26667 |\n",
       "| 202 | 0 | 226 |  968 | 1600 | 1500 |   6 | 0 | 155.0000 | 2.866667 | 13.16667 |\n",
       "| 203 | 0 | 212 |  998 | 1600 |  750 |  16 | 5 | 156.3333 | 2.966667 | 13.16667 |\n",
       "| 204 | 0 | 220 | 1051 | 1580 | 1000 |   3 | 2 | 152.3333 | 3.100000 | 13.36667 |\n",
       "| 205 | 0 | 224 |  988 | 1610 |  750 |  12 | 5 | 155.6667 | 2.866667 | 13.10000 |\n",
       "| 206 | 0 | 255 | 1008 | 1620 | 1500 |   8 | 2 | 152.3333 | 2.833333 | 13.06667 |\n",
       "| 207 | 0 | 289 | 1033 | 1640 | 2000 |   4 | 0 | 149.3333 | 2.733333 | 12.96667 |\n",
       "| 208 | 0 | 295 | 1046 | 1580 | 1500 |   6 | 2 | 143.3333 | 2.966667 | 13.50000 |\n",
       "| 209 | 0 | 143 | 1047 | 1300 | 3000 |   4 | 0 | 132.3333 | 4.200000 | 15.80000 |\n",
       "| 210 | 0 | 299 |  730 | 1580 | 8000 |  16 | 0 | 138.0000 | 2.433333 | 13.40000 |\n",
       "| 211 | 0 | 287 |  730 | 1640 | 9000 |   8 | 3 | 150.3333 | 2.266667 | 12.76667 |\n",
       "| 212 | 0 | 269 |  729 | 1660 | 9500 |  30 | 1 | 157.0000 | 2.266667 | 12.53333 |\n",
       "| 213 | 0 | 186 | 1108 | 1440 | 2750 |   8 | 0 | 142.3333 | 3.766667 | 14.53333 |\n",
       "\n"
      ],
      "text/plain": [
       "    pres.abs northing easting altitude distance NoOfPools NoOfSites avrain  \n",
       "2   1        115      1047    1500     500      232       3         155.0000\n",
       "3   1        110      1042    1520     250       66       5         157.6667\n",
       "4   1        112      1040    1540     250       32       5         159.6667\n",
       "5   1        109      1033    1590     250        9       5         165.0000\n",
       "6   1        109      1032    1590     250       67       5         165.0000\n",
       "7   1        106      1018    1600     500       12       4         167.3333\n",
       "8   1        105      1015    1600     250       30       3         167.3333\n",
       "9   1         84      1014    1560     750       13       2         165.0000\n",
       "10  1         88      1023    1560     250        4       3         164.0000\n",
       "11  1         91      1025    1560     250       14       4         164.0000\n",
       "12  1        105      1037    1580     500        9       5         164.3333\n",
       "13  1        110      1047    1520     500       11       3         157.6667\n",
       "14  1         98      1019    1460     750        7       7         153.3333\n",
       "15  1         91      1018    1510     250       16       5         159.0000\n",
       "16  1         89      1020    1520     250       10       5         160.3333\n",
       "17  1        198      1090    1320     500       24       4         129.0000\n",
       "18  1        197      1086    1320     500        8       2         129.3333\n",
       "19  1        190      1119    1300     500        6       5         127.0000\n",
       "20  1        194      1117    1300     250       19       5         126.3333\n",
       "21  1        192      1100    1320     250       20       6         129.3333\n",
       "22  1        191      1103    1320     250       10       6         129.3333\n",
       "23  1        200      1127    1320     500        2       3         128.3333\n",
       "24  1        192      1108    1320     500       20       7         129.0000\n",
       "25  1        187      1105    1300     250       34       6         127.3333\n",
       "26  1        187      1108    1300     250        6       5         127.0000\n",
       "27  1        204      1130    1340     500        3       1         129.6667\n",
       "28  1        195      1119    1300     250       14       6         126.3333\n",
       "29  1        136      1101    1300     250        9       3         131.0000\n",
       "30  1        133      1098    1300     250        8       3         131.3333\n",
       "31  1        201      1216    1400     750       11       2         134.6667\n",
       "... ...      ...      ...     ...      ...      ...       ...       ...     \n",
       "184 1        203       962    1680     1500      42       0         166.6667\n",
       "185 0        136      1097    1300      500       6       3         131.0000\n",
       "186 0        208      1219    1350      750      21       2         129.0000\n",
       "187 0        126      1120    1500     2000       6       1         151.6667\n",
       "188 0        132      1130    1520     2750       4       1         153.0000\n",
       "189 0        317       998    1700     1500       8       0         152.6667\n",
       "190 0        304       988    1660     2000      24       1         149.6667\n",
       "191 0        295       984    1680     2500      34       2         153.0000\n",
       "192 0        289       990    1700     1750      42       2         156.3333\n",
       "193 0        280       985    1800     2250     112       1         170.0000\n",
       "194 0        270       978    1790     3250      26       0         170.0000\n",
       "195 0        268       995    1720     2000      22       1         161.6667\n",
       "196 0        273      1002    1760     1000      18       2         165.6667\n",
       "197 0        119      1003    1600      500       6       3         166.6667\n",
       "198 0        132      1092    1280      750       5       3         129.0000\n",
       "199 0        217      1017    1600      750      23       4         155.0000\n",
       "200 0        228       984    1600      750       4       3         154.3333\n",
       "201 0        246      1000    1600      500       3       1         151.6667\n",
       "202 0        226       968    1600     1500       6       0         155.0000\n",
       "203 0        212       998    1600      750      16       5         156.3333\n",
       "204 0        220      1051    1580     1000       3       2         152.3333\n",
       "205 0        224       988    1610      750      12       5         155.6667\n",
       "206 0        255      1008    1620     1500       8       2         152.3333\n",
       "207 0        289      1033    1640     2000       4       0         149.3333\n",
       "208 0        295      1046    1580     1500       6       2         143.3333\n",
       "209 0        143      1047    1300     3000       4       0         132.3333\n",
       "210 0        299       730    1580     8000      16       0         138.0000\n",
       "211 0        287       730    1640     9000       8       3         150.3333\n",
       "212 0        269       729    1660     9500      30       1         157.0000\n",
       "213 0        186      1108    1440     2750       8       0         142.3333\n",
       "    meanmin  meanmax \n",
       "2   3.566667 14.00000\n",
       "3   3.466667 13.80000\n",
       "4   3.400000 13.60000\n",
       "5   3.200000 13.16667\n",
       "6   3.200000 13.16667\n",
       "7   3.133333 13.06667\n",
       "8   3.100000 13.06667\n",
       "9   3.300000 13.40000\n",
       "10  3.300000 13.43333\n",
       "11  3.300000 13.43333\n",
       "12  3.233333 13.26667\n",
       "13  3.466667 13.80000\n",
       "14  3.666667 14.30000\n",
       "15  3.500000 13.86667\n",
       "16  3.466667 13.76667\n",
       "17  4.100000 15.70000\n",
       "18  4.100000 15.70000\n",
       "19  4.233333 15.83333\n",
       "20  4.233333 15.86667\n",
       "21  4.133333 15.70000\n",
       "22  4.133333 15.70000\n",
       "23  4.133333 15.70000\n",
       "24  4.133333 15.70000\n",
       "25  4.233333 15.83333\n",
       "26  4.233333 15.83333\n",
       "27  4.100000 15.50000\n",
       "28  4.233333 15.86667\n",
       "29  4.333333 15.76667\n",
       "30  4.333333 15.76667\n",
       "31  4.066667 14.93333\n",
       "... ...      ...     \n",
       "184 2.566667 12.46667\n",
       "185 4.266667 15.76667\n",
       "186 4.133333 15.43333\n",
       "187 3.666667 13.96667\n",
       "188 3.633333 13.83333\n",
       "189 2.400000 12.46667\n",
       "190 2.533333 12.76667\n",
       "191 2.466667 12.63333\n",
       "192 2.400000 12.43333\n",
       "193 2.033333 11.60000\n",
       "194 2.066667 11.63333\n",
       "195 2.333333 12.23333\n",
       "196 2.233333 11.90000\n",
       "197 3.100000 13.06667\n",
       "198 4.333333 15.96667\n",
       "199 2.966667 13.16667\n",
       "200 2.866667 13.16667\n",
       "201 2.866667 13.26667\n",
       "202 2.866667 13.16667\n",
       "203 2.966667 13.16667\n",
       "204 3.100000 13.36667\n",
       "205 2.866667 13.10000\n",
       "206 2.833333 13.06667\n",
       "207 2.733333 12.96667\n",
       "208 2.966667 13.50000\n",
       "209 4.200000 15.80000\n",
       "210 2.433333 13.40000\n",
       "211 2.266667 12.76667\n",
       "212 2.266667 12.53333\n",
       "213 3.766667 14.53333"
      ]
     },
     "metadata": {},
     "output_type": "display_data"
    }
   ],
   "source": [
    "View(frogs)"
   ]
  },
  {
   "cell_type": "code",
   "execution_count": 8,
   "id": "8ae317a3-1eaf-4931-ae20-e6ecc6672b71",
   "metadata": {},
   "outputs": [
    {
     "data": {
      "image/png": "[encoded data removed]",
      "text/plain": [
       "Plot with title \"\""
      ]
     },
     "metadata": {
      "image/png": {
       "height": 420,
       "width": 420
      }
     },
     "output_type": "display_data"
    }
   ],
   "source": [
    "plotNormalHistogram(frogs$altitude)"
   ]
  },
  {
   "cell_type": "code",
   "execution_count": 7,
   "id": "bd0ff1b4-3cfa-4f23-abd9-9ba203a8176b",
   "metadata": {},
   "outputs": [
    {
     "data": {
      "image/png": "[encoded data removed]",
      "text/plain": [
       "Plot with title \"\""
      ]
     },
     "metadata": {
      "image/png": {
       "height": 420,
       "width": 420
      }
     },
     "output_type": "display_data"
    }
   ],
   "source": [
    "plotNormalHistogram(frogs$avrain)"
   ]
  },
  {
   "cell_type": "code",
   "execution_count": 7,
   "id": "5e2f2074-182a-4abd-90c1-2f65c3172199",
   "metadata": {},
   "outputs": [
    {
     "data": {
      "image/png": "[encoded data removed]",
      "text/plain": [
       "Plot with title \"\""
      ]
     },
     "metadata": {
      "image/png": {
       "height": 420,
       "width": 420
      }
     },
     "output_type": "display_data"
    }
   ],
   "source": [
    "plotNormalHistogram(frogs$avrain)"
   ]
  }
 ],
 "metadata": {
  "kernelspec": {
   "display_name": "R",
   "language": "R",
   "name": "ir"
  },
  "language_info": {
   "codemirror_mode": "r",
   "file_extension": ".r",
   "mimetype": "text/x-r-source",
   "name": "R",
   "pygments_lexer": "r",
   "version": "4.1.1"
  }
 },
 "nbformat": 4,
 "nbformat_minor": 5
}
