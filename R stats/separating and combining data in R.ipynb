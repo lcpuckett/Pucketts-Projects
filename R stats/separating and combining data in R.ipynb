{
 "cells": [
  {
   "cell_type": "markdown",
   "metadata": {},
   "source": [
    "# splitting Fake News data"
   ]
  },
  {
   "cell_type": "code",
   "execution_count": null,
   "metadata": {
    "vscode": {
     "languageId": "r"
    }
   },
   "outputs": [],
   "source": [
    "library(readxl)\n",
    "\n",
    "FN= read_excel(\"forever learning =D/SCI SCHOOLING/DSO104/FakeNews.xlsx\")\n",
    "head(FN)\n",
    "\n",
    "FN$StoryType= \"Fake \"\n",
    "FN1= FN[,2:4]\n",
    "head(FNR)\n",
    "\n",
    "install.packages(\"tidyr\")\n",
    "library(\"tidyr\")\n",
    "\n",
    "FN2= separate(FN1, url, c(\"website\", \"domain\"), sep=\"_\")\n",
    "head(FN2)\n",
    "\n",
    "FN3= unite(FN2,wholeurl,website,domain,sep=\"_\")\n",
    "head(FN3)\n",
    "\n",
    "FN4=FN3[1:10,]\n",
    "head(FN4)\n"
   ]
  },
  {
   "cell_type": "markdown",
   "metadata": {},
   "source": [
    "# combining AirBnB data"
   ]
  },
  {
   "cell_type": "code",
   "execution_count": null,
   "metadata": {
    "vscode": {
     "languageId": "r"
    }
   },
   "outputs": [],
   "source": [
    "bnb= read.csv(\"c:/users/latri/desktop/airbnb_test_users.csv\")\n",
    "head(bnb)\n",
    "\n",
    "#group by browser, average age\n",
    "bnbage= aggregate(age~first_browser,bnb,mean)\n",
    "head(bnbage)\n",
    "\n",
    "#sign up flow\n",
    "bnbflow= aggregate(signup_flow~first_device_type,bnb,sum)\n",
    "head(bnbflow)\n",
    "\n",
    "#new dataset\n",
    "bnb2= read.csv(\"c:/users/latri/desktop/airbnb_sample_submission.csv\")\n",
    "head(bnb2)\n",
    "bnb3= merge(bnb, bnb2, by=c('id'),all=TRUE)\n",
    "head(bnb3)\n",
    "\n",
    "#new users\n",
    "bnb4= read.csv(\"c:/users/latri/desktop/airbnb_users.csv\")\n",
    "library(plyr)\n",
    "bnb4=rename(bnb4, c('country_destination'='country'))\n",
    "allbnb= rbind(bnb3,bnb4)\n",
    "head(allbnb)\n",
    "tail(allbnb)\n"
   ]
  }
 ],
 "metadata": {
  "kernelspec": {
   "display_name": "R",
   "language": "R",
   "name": "ir"
  },
  "language_info": {
   "name": "R"
  },
  "orig_nbformat": 4
 },
 "nbformat": 4,
 "nbformat_minor": 2
}
