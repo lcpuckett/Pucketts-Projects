{
 "cells": [
  {
   "cell_type": "markdown",
   "metadata": {},
   "source": [
    "Pandas (pd): Yes, you read that right - pandas! The pandas package allows you to import data and manipulate data frames easily.\n",
    "Numpy (np): Numpy (pronounced numb-pie) is a package that allows you to work with arrays.\n",
    "Scipy (scp): Scipy will have a lot of statistics in it.\n",
    "statsmodels (sm): If the stat you're looking for isn't covered in scipy, try stats models!\n",
    "scikitlearn (sklearn): Machine learning package.\n",
    "matplotlib (plt): Matplotlib has a lot of graphing capabilities and other visualizations.\n",
    "seaborn (sns): Another good data visualization package. We will also use it often because it has some great built in datasets."
   ]
  },
  {
   "cell_type": "code",
   "execution_count": 2,
   "metadata": {},
   "outputs": [],
   "source": [
    "#the four most important data sci packages\n",
    "import pandas as pd\n",
    "import numpy as np\n",
    "import seaborn as sns\n",
    "import matplotlib.pyplot as plt"
   ]
  },
  {
   "cell_type": "markdown",
   "metadata": {},
   "source": [
    "load in a dataset that interests you and is robust enough, 3 columns 100 rows \n",
    "import with pandas\n",
    "explore columns, clean it up, manage rows and data\n",
    "(info, describe, shape to get metadata)\n",
    "use mathplotlib and seaborn to check it over visually\n",
    "do summary on columns, do correlations charts\n",
    "\n",
    "then you can ask and answer questions, ask 5 questions can use numpy/ pandas or plot graphs using seaborn/ matplotlib\n",
    "make sure to explain what youre doing, annotate! \n",
    "then report on what you learned, some insights on what you could add from other datasets"
   ]
  },
  {
   "cell_type": "markdown",
   "metadata": {},
   "source": [
    "checking correlations visually"
   ]
  },
  {
   "cell_type": "code",
   "execution_count": null,
   "metadata": {},
   "outputs": [],
   "source": [
    "df.columns"
   ]
  },
  {
   "cell_type": "code",
   "execution_count": null,
   "metadata": {},
   "outputs": [],
   "source": [
    "#scatterplot\n",
    "sns.relplot( x= \"\", y=\"\", hue= \"\", kind= data= )\n",
    "#kind= line vs. plotting dots"
   ]
  },
  {
   "cell_type": "code",
   "execution_count": null,
   "metadata": {},
   "outputs": [],
   "source": [
    "sns.pairplot()"
   ]
  },
  {
   "cell_type": "code",
   "execution_count": null,
   "metadata": {},
   "outputs": [],
   "source": [
    "#categorical variables\n",
    "sns.catplot(x=,y=,data=)"
   ]
  },
  {
   "cell_type": "code",
   "execution_count": 6,
   "metadata": {},
   "outputs": [
    {
     "data": {
      "image/png": "[encoded data removed]",
      "text/plain": [
       "<Figure size 432x288 with 9 Axes>"
      ]
     },
     "metadata": {
      "needs_background": "light"
     },
     "output_type": "display_data"
    }
   ],
   "source": [
    "#matplotlib multiple charts in one!\n",
    "plt.subplots(3,3)#figsize= changes the size of the photo?\n",
    "plt.tight_layout(pad=2)\n"
   ]
  }
 ],
 "metadata": {
  "interpreter": {
   "hash": "3bd13bc16400e16874b7ce28af58a129343287e94248a182c1f06fbb6b76ef8e"
  },
  "kernelspec": {
   "display_name": "Python 3.10.2 64-bit",
   "language": "python",
   "name": "python3"
  },
  "language_info": {
   "codemirror_mode": {
    "name": "ipython",
    "version": 3
   },
   "file_extension": ".py",
   "mimetype": "text/x-python",
   "name": "python",
   "nbconvert_exporter": "python",
   "pygments_lexer": "ipython3",
   "version": "3.10.2"
  },
  "orig_nbformat": 4
 },
 "nbformat": 4,
 "nbformat_minor": 2
}
