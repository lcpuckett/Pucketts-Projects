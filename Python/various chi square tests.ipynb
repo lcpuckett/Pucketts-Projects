{
 "cells": [
  {
   "cell_type": "code",
   "execution_count": 11,
   "id": "1f30eab4",
   "metadata": {},
   "outputs": [],
   "source": [
    "#one proportion testing\n",
    "#proportion test, 15 jellybeans 28 chocolate eggs\n",
    "import pandas as pd\n",
    "import scipy, scipy.stats\n",
    "import numpy as np\n",
    "from statsmodels.stats.proportion import proportions_ztest\n",
    "import statsmodels as sm\n",
    "from statsmodels.stats.contingency_tables import mcnemar"
   ]
  },
  {
   "cell_type": "code",
   "execution_count": 2,
   "id": "8bca24c9",
   "metadata": {},
   "outputs": [
    {
     "name": "stdout",
     "output_type": "stream",
     "text": [
      "-2.079806538622099 0.03754328113448803\n"
     ]
    }
   ],
   "source": [
    "#define counts, observations and proportion\n",
    "#test will print statistic and p value\n",
    "count = 15\n",
    "nobs = 43\n",
    "value = .5\n",
    "stat, pval = proportions_ztest(count, nobs, value)\n",
    "print(stat,pval)\n",
    "#proportion of jellybeans is 38%"
   ]
  },
  {
   "cell_type": "code",
   "execution_count": 3,
   "id": "4d1d4105",
   "metadata": {},
   "outputs": [
    {
     "name": "stdout",
     "output_type": "stream",
     "text": [
      "0.23974366706563624 0.810528980523634\n"
     ]
    }
   ],
   "source": [
    "#now to test two proportions, two categories vs the whole\n",
    "#we want to check the proportion of pink in the selection, 7 jelly, 12 chocolate\n",
    "#now the first vector is the proportion of pink and the second is the proportion of candies\n",
    "stat, pval = proportions_ztest([7, 12], [15, 28])\n",
    "print(stat,pval)\n",
    "#p value is not significant, meaning there is no real difference in the proportions "
   ]
  },
  {
   "cell_type": "code",
   "execution_count": 10,
   "id": "a8275075",
   "metadata": {},
   "outputs": [
    {
     "data": {
      "text/plain": [
       "Power_divergenceResult(statistic=529.3819655521784, pvalue=3.849512370977756e-117)"
      ]
     },
     "execution_count": 10,
     "metadata": {},
     "output_type": "execute_result"
    }
   ],
   "source": [
    "#goodness of fit chi square to compare sample to population, read that 90% of people like Star Wars, use your survey to check\n",
    "SW= pd.read_csv(\"C:/Users/latri/Desktop/SW_survey_renamed.csv\")\n",
    "#wrangle like and dislike data\n",
    "SW.FanYN.value_counts()\n",
    "#create vectors for observed and expected, expected has to be whole numbers, add up all observed, multiply by expected proportion, subtract that number from the total exp for leftover percentage\n",
    "observed_values = np.array([552, 284])\n",
    "expected_values = np.array([752, 84])\n",
    "scipy.stats.chisquare(observed_values, f_exp=expected_values)\n",
    "#p value is super significant! which means if differs A LOT from the population (its not 90%)"
   ]
  },
  {
   "cell_type": "code",
   "execution_count": 16,
   "id": "4335540d",
   "metadata": {},
   "outputs": [],
   "source": [
    "#mcnemar chi square, used to look at something over time that only has two data points\n",
    "bakery= pd.read_csv(\"C:/Users/latri/Desktop/bakery_sales.csv\")\n",
    "#wondering if coffee sales are different between the beginning and end of the month \n",
    "#willl have to recode the data to make it usuable for analysis, check the structure"
   ]
  },
  {
   "cell_type": "code",
   "execution_count": 24,
   "id": "17f1a543",
   "metadata": {},
   "outputs": [
    {
     "name": "stdout",
     "output_type": "stream",
     "text": [
      "<class 'pandas.core.frame.DataFrame'>\n",
      "RangeIndex: 21293 entries, 0 to 21292\n",
      "Data columns (total 7 columns):\n",
      " #   Column       Non-Null Count  Dtype \n",
      "---  ------       --------------  ----- \n",
      " 0   Date         21293 non-null  object\n",
      " 1   Time         21293 non-null  object\n",
      " 2   Transaction  21293 non-null  int64 \n",
      " 3   Item         21293 non-null  object\n",
      " 4   Date1        21293 non-null  object\n",
      " 5   Date2        21293 non-null  int32 \n",
      " 6   Date3        21293 non-null  object\n",
      "dtypes: int32(1), int64(1), object(5)\n",
      "memory usage: 1.1+ MB\n"
     ]
    }
   ],
   "source": [
    "#separate out date column into string data\n",
    "bakery1 = bakery['Date'].str.split('/', expand=True).rename(columns = lambda x: \"Date\" + str(x +1))\n",
    "#and then put it back together\n",
    "bakery3 = pd.concat([bakery, bakery1], axis=1)\n",
    "#now we need to make date2 an integer, do a quick check and it shows up as a stringm so change it to integer!\n",
    "bakery3.Date2 = bakery3.Date2.astype(int)\n",
    "bakery3.info()"
   ]
  },
  {
   "cell_type": "code",
   "execution_count": 25,
   "id": "0b6f13f4",
   "metadata": {},
   "outputs": [],
   "source": [
    "#then we will recode the data to be beginning or end of month \n",
    "#use function for greater or less than 15 to change data\n",
    "def month (series): \n",
    "    if series <= 15: \n",
    "        return 0\n",
    "    if series > 16: \n",
    "        return 1\n",
    "bakery3['DayR'] = bakery3[\"Date2\"].apply(month)\n"
   ]
  },
  {
   "cell_type": "code",
   "execution_count": 26,
   "id": "43fba9bd",
   "metadata": {},
   "outputs": [],
   "source": [
    "#we will also recode data to be coffee or not coffee, since thats what we are after!\n",
    "def item (series): \n",
    "    if series == \"Coffee\": \n",
    "        return 1\n",
    "    if series != \"Coffee\": \n",
    "        return 0\n",
    "bakery3['CoffeeYN'] = bakery3[\"Item\"].apply(item)"
   ]
  },
  {
   "cell_type": "code",
   "execution_count": 27,
   "id": "8ae2de5b",
   "metadata": {},
   "outputs": [
    {
     "data": {
      "text/html": [
       "<div>\n",
       "<style scoped>\n",
       "    .dataframe tbody tr th:only-of-type {\n",
       "        vertical-align: middle;\n",
       "    }\n",
       "\n",
       "    .dataframe tbody tr th {\n",
       "        vertical-align: top;\n",
       "    }\n",
       "\n",
       "    .dataframe thead th {\n",
       "        text-align: right;\n",
       "    }\n",
       "</style>\n",
       "<table border=\"1\" class=\"dataframe\">\n",
       "  <thead>\n",
       "    <tr style=\"text-align: right;\">\n",
       "      <th>CoffeeYN</th>\n",
       "      <th>0</th>\n",
       "      <th>1</th>\n",
       "    </tr>\n",
       "    <tr>\n",
       "      <th>DayR</th>\n",
       "      <th></th>\n",
       "      <th></th>\n",
       "    </tr>\n",
       "  </thead>\n",
       "  <tbody>\n",
       "    <tr>\n",
       "      <th>0.0</th>\n",
       "      <td>8238</td>\n",
       "      <td>2841</td>\n",
       "    </tr>\n",
       "    <tr>\n",
       "      <th>1.0</th>\n",
       "      <td>7126</td>\n",
       "      <td>2491</td>\n",
       "    </tr>\n",
       "  </tbody>\n",
       "</table>\n",
       "</div>"
      ],
      "text/plain": [
       "CoffeeYN     0     1\n",
       "DayR                \n",
       "0.0       8238  2841\n",
       "1.0       7126  2491"
      ]
     },
     "execution_count": 27,
     "metadata": {},
     "output_type": "execute_result"
    }
   ],
   "source": [
    "#use crosstab to make contingency table since mcnemar doesnt take raw data\n",
    "bakery_crosstab = pd.crosstab(bakery3['DayR'], bakery3['CoffeeYN'])\n",
    "bakery_crosstab"
   ]
  },
  {
   "cell_type": "code",
   "execution_count": 28,
   "id": "9f9b7039",
   "metadata": {},
   "outputs": [
    {
     "name": "stdout",
     "output_type": "stream",
     "text": [
      "pvalue      0.0\n",
      "statistic   1841.3420286946925\n"
     ]
    }
   ],
   "source": [
    "#cant test for assumptions in python, so dont use this for important data!\n",
    "result = sm.stats.contingency_tables.mcnemar(bakery_crosstab, exact=False, correction=True)\n",
    "print(result)\n",
    "#p is significant, sales do differ from the beginning and end of the month! but we will never know quite how in python"
   ]
  },
  {
   "cell_type": "code",
   "execution_count": null,
   "id": "c6976174",
   "metadata": {},
   "outputs": [],
   "source": []
  }
 ],
 "metadata": {
  "kernelspec": {
   "display_name": "Python 3",
   "language": "python",
   "name": "python3"
  },
  "language_info": {
   "codemirror_mode": {
    "name": "ipython",
    "version": 3
   },
   "file_extension": ".py",
   "mimetype": "text/x-python",
   "name": "python",
   "nbconvert_exporter": "python",
   "pygments_lexer": "ipython3",
   "version": "3.8.8"
  }
 },
 "nbformat": 4,
 "nbformat_minor": 5
}
