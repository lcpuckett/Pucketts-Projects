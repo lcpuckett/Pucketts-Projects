{
 "cells": [
  {
   "cell_type": "code",
   "execution_count": 2,
   "id": "f8f150ee",
   "metadata": {},
   "outputs": [],
   "source": [
    "#one way, between subject anovas (one dependent variable, independent categories)\n",
    "#python was not made for stats, so its best to use R when running these tests\n",
    "#but alas\n",
    "import pandas as pd\n",
    "import numpy as np\n",
    "import scipy\n",
    "from scipy import stats\n",
    "import seaborn as sns\n",
    "from statsmodels.stats.multicomp import pairwise_tukeyhsd\n",
    "from statsmodels.stats.multicomp import MultiComparison"
   ]
  },
  {
   "cell_type": "code",
   "execution_count": 3,
   "id": "d2dcab8d",
   "metadata": {},
   "outputs": [],
   "source": [
    "apps= pd.read_csv('C:/Users/latri/Desktop/NEWgoogleplaystore.csv')\n",
    "#want to know: Is there a difference in the number of reviews among the three app categories of beauty, food and drink, and photography? \n",
    "#x, independent variable is the three categories. categorical\n",
    "#y dependent variable is the reviews. continuous\n",
    "#will wrangle data so we can also test assumptions and run post hocs"
   ]
  },
  {
   "cell_type": "code",
   "execution_count": 4,
   "id": "ea60bc8c",
   "metadata": {},
   "outputs": [],
   "source": [
    "#we will single out the categories we want by making a list, \n",
    "#using isin searches through the data and ONLY keeps what matches the list\n",
    "#then youll want to apply it back the the true data and make a new data from \"copied\" from the main one, instead of being sliced out\n",
    "categories = ['BEAUTY', 'FOOD_AND_DRINK','PHOTOGRAPHY']\n",
    "#this seems to act kind of like a for loop\n",
    "apps1 = apps['Category'].isin(categories)\n",
    "#this makes it a data frame again (propabably and imprtant distinction for the computer)\n",
    "apps2 = apps[apps1].copy()"
   ]
  },
  {
   "cell_type": "code",
   "execution_count": 14,
   "id": "fa2d07c4",
   "metadata": {},
   "outputs": [
    {
     "name": "stdout",
     "output_type": "stream",
     "text": [
      "<class 'pandas.core.frame.DataFrame'>\n",
      "Int64Index: 515 entries, 98 to 10740\n",
      "Data columns (total 2 columns):\n",
      " #   Column    Non-Null Count  Dtype \n",
      "---  ------    --------------  ----- \n",
      " 0   Category  515 non-null    object\n",
      " 1   Reviews   515 non-null    object\n",
      "dtypes: object(2)\n",
      "memory usage: 12.1+ KB\n",
      "<class 'pandas.core.frame.DataFrame'>\n",
      "Int64Index: 515 entries, 98 to 10740\n",
      "Data columns (total 2 columns):\n",
      " #   Column    Non-Null Count  Dtype \n",
      "---  ------    --------------  ----- \n",
      " 0   Category  515 non-null    object\n",
      " 1   Reviews   515 non-null    int32 \n",
      "dtypes: int32(1), object(1)\n",
      "memory usage: 10.1+ KB\n"
     ]
    },
    {
     "name": "stderr",
     "output_type": "stream",
     "text": [
      "D:\\AnacondaDATASCI\\lib\\site-packages\\pandas\\core\\generic.py:5494: SettingWithCopyWarning: \n",
      "A value is trying to be set on a copy of a slice from a DataFrame.\n",
      "Try using .loc[row_indexer,col_indexer] = value instead\n",
      "\n",
      "See the caveats in the documentation: https://pandas.pydata.org/pandas-docs/stable/user_guide/indexing.html#returning-a-view-versus-a-copy\n",
      "  self[name] = value\n"
     ]
    }
   ],
   "source": [
    "#now we only want two variables for the test we are going to run\n",
    "apps3 = apps2[['Category','Reviews']]\n",
    "#and want to make sure our continuous variable (reviews) is an integer\n",
    "apps3.info()\n",
    "apps3.Reviews = apps3.Reviews.astype(int)\n",
    "#have an error because this \"data frame\" is still a slice! (knew the computer cared)\n",
    "#but it will still work\n",
    "apps3.info()"
   ]
  },
  {
   "cell_type": "code",
   "execution_count": 6,
   "id": "b268e038",
   "metadata": {},
   "outputs": [
    {
     "name": "stderr",
     "output_type": "stream",
     "text": [
      "<ipython-input-6-5b22d6d1c690>:10: SettingWithCopyWarning: \n",
      "A value is trying to be set on a copy of a slice from a DataFrame.\n",
      "Try using .loc[row_indexer,col_indexer] = value instead\n",
      "\n",
      "See the caveats in the documentation: https://pandas.pydata.org/pandas-docs/stable/user_guide/indexing.html#returning-a-view-versus-a-copy\n",
      "  apps3['CategoryR'] = apps3['Category'].apply(recode)\n"
     ]
    }
   ],
   "source": [
    "#recode the data because post hocs and assumption testing doesnt take words\n",
    "def recode (series):\n",
    "    if series == \"BEAUTY\": \n",
    "        return 0\n",
    "    if series == \"FOOD_AND_DRINK\": \n",
    "        return 1\n",
    "    if series == \"PHOTOGRAPHY\": \n",
    "        return 2\n",
    "\n",
    "apps3['CategoryR'] = apps3['Category'].apply(recode)\n",
    "\n",
    "#then drop the old category column (new slice)\n",
    "apps4 = apps3[['CategoryR','Reviews']]"
   ]
  },
  {
   "cell_type": "code",
   "execution_count": 7,
   "id": "dc378de4",
   "metadata": {},
   "outputs": [
    {
     "name": "stderr",
     "output_type": "stream",
     "text": [
      "D:\\AnacondaDATASCI\\lib\\site-packages\\seaborn\\distributions.py:2557: FutureWarning: `distplot` is a deprecated function and will be removed in a future version. Please adapt your code to use either `displot` (a figure-level function with similar flexibility) or `histplot` (an axes-level function for histograms).\n",
      "  warnings.warn(msg, FutureWarning)\n"
     ]
    },
    {
     "data": {
      "image/png": "[encoded data removed]",
      "text/plain": [
       "<Figure size 432x288 with 1 Axes>"
      ]
     },
     "metadata": {
      "needs_background": "light"
     },
     "output_type": "display_data"
    }
   ],
   "source": [
    "# test that the dependent variable (continuous) is normally distributed\n",
    "sns.distplot(apps4['Reviews'])\n",
    "#highly positively skewed! we will transform\n",
    "apps4['ReviewsSQRT'] = np.sqrt(apps4['Reviews'])\n",
    "#which makes it a bit better"
   ]
  },
  {
   "cell_type": "code",
   "execution_count": 8,
   "id": "5c6304bb",
   "metadata": {},
   "outputs": [
    {
     "data": {
      "text/plain": [
       "FlignerResult(statistic=642.0602581715318, pvalue=1.1908711834100128e-141)"
      ]
     },
     "execution_count": 8,
     "metadata": {},
     "output_type": "execute_result"
    }
   ],
   "source": [
    "#test for homogeneity of variance using Bartletts or Fligner, looking for non-significant results\n",
    "#since this data is correct we would use bartletts, but will do both to learn them\n",
    "scipy.stats.bartlett(apps4['ReviewsSQRT'], apps4['CategoryR'])\n",
    "#p was significant, so we failed the test for homogeneity\n",
    "\n",
    "#and fligners test\n",
    "scipy.stats.fligner(apps4['ReviewsSQRT'], apps4['CategoryR'])\n",
    "#also failed, so time to correct for the violation\n",
    "#just kidding, pything cant do any of them! so there will be inaccuracies if we continue\n",
    "#switch to R!"
   ]
  },
  {
   "cell_type": "code",
   "execution_count": 10,
   "id": "971e6632",
   "metadata": {},
   "outputs": [
    {
     "data": {
      "text/plain": [
       "F_onewayResult(statistic=11.467490725511773, pvalue=1.342932747373518e-05)"
      ]
     },
     "execution_count": 10,
     "metadata": {},
     "output_type": "execute_result"
    }
   ],
   "source": [
    "#ANOVAs with equal variance, one way anovas: each IV crossed with the DV\n",
    "stats.f_oneway(apps['Reviews'][apps['Cate\n",
    "                                    ory']=='BEAUTY'],\n",
    "                    apps['Reviews'][apps['Category']=='FOOD_AND_DRINK'],\n",
    "                    apps['Reviews'][apps['Category']=='PHOTOGRAPHY'])\n",
    "#p is significant meaning there is a significant difference in reviews for each category"
   ]
  },
  {
   "cell_type": "code",
   "execution_count": null,
   "id": "0d6409bd",
   "metadata": {},
   "outputs": [],
   "source": [
    "#when the anova has unequal variance (no homogeneity) there is no way to compute them in python! switch to R"
   ]
  },
  {
   "cell_type": "code",
   "execution_count": 13,
   "id": "0480a398",
   "metadata": {
    "scrolled": true
   },
   "outputs": [
    {
     "name": "stdout",
     "output_type": "stream",
     "text": [
      " Multiple Comparison of Means - Tukey HSD, FWER=0.05  \n",
      "======================================================\n",
      "group1 group2 meandiff p-adj   lower    upper   reject\n",
      "------------------------------------------------------\n",
      "     0      1   111.89 0.4078 -93.3166 317.0966  False\n",
      "     0      2  419.474  0.001 233.9713 604.9768   True\n",
      "     1      2  307.584  0.001  176.819 438.3491   True\n",
      "------------------------------------------------------\n"
     ]
    },
    {
     "data": {
      "text/html": [
       "<div>\n",
       "<style scoped>\n",
       "    .dataframe tbody tr th:only-of-type {\n",
       "        vertical-align: middle;\n",
       "    }\n",
       "\n",
       "    .dataframe tbody tr th {\n",
       "        vertical-align: top;\n",
       "    }\n",
       "\n",
       "    .dataframe thead th {\n",
       "        text-align: right;\n",
       "    }\n",
       "</style>\n",
       "<table border=\"1\" class=\"dataframe\">\n",
       "  <thead>\n",
       "    <tr style=\"text-align: right;\">\n",
       "      <th></th>\n",
       "      <th>Reviews</th>\n",
       "      <th>ReviewsSQRT</th>\n",
       "    </tr>\n",
       "    <tr>\n",
       "      <th>CategoryR</th>\n",
       "      <th></th>\n",
       "      <th></th>\n",
       "    </tr>\n",
       "  </thead>\n",
       "  <tbody>\n",
       "    <tr>\n",
       "      <th>0</th>\n",
       "      <td>7476.226415</td>\n",
       "      <td>48.854024</td>\n",
       "    </tr>\n",
       "    <tr>\n",
       "      <th>1</th>\n",
       "      <td>69947.480315</td>\n",
       "      <td>160.744038</td>\n",
       "    </tr>\n",
       "    <tr>\n",
       "      <th>2</th>\n",
       "      <td>637363.134328</td>\n",
       "      <td>468.328067</td>\n",
       "    </tr>\n",
       "  </tbody>\n",
       "</table>\n",
       "</div>"
      ],
      "text/plain": [
       "                 Reviews  ReviewsSQRT\n",
       "CategoryR                            \n",
       "0            7476.226415    48.854024\n",
       "1           69947.480315   160.744038\n",
       "2          637363.134328   468.328067"
      ]
     },
     "execution_count": 13,
     "metadata": {},
     "output_type": "execute_result"
    }
   ],
   "source": [
    "#post hocs help figure out what groups differ from each other. we will use Tukey because it automatically codes for post hocs\n",
    "postHoc = MultiComparison(apps4['ReviewsSQRT'], apps4['CategoryR'])\n",
    "postHocResults = postHoc.tukeyhsd()\n",
    "print(postHocResults)\n",
    "#tough cause we had to recode but recall: 0=beauty, 1=food/drink, 2=photog\n",
    "#give us mean difference in the number of reviews per comparison, \n",
    "#plus the confidence intervaland if we can reject the null hypothesis\n",
    "apps4.groupby('CategoryR').mean()"
   ]
  },
  {
   "cell_type": "code",
   "execution_count": null,
   "id": "29d1b1bf",
   "metadata": {},
   "outputs": [],
   "source": []
  },
  {
   "cell_type": "code",
   "execution_count": null,
   "id": "572030df",
   "metadata": {},
   "outputs": [],
   "source": []
  }
 ],
 "metadata": {
  "kernelspec": {
   "display_name": "Python 3",
   "language": "python",
   "name": "python3"
  },
  "language_info": {
   "codemirror_mode": {
    "name": "ipython",
    "version": 3
   },
   "file_extension": ".py",
   "mimetype": "text/x-python",
   "name": "python",
   "nbconvert_exporter": "python",
   "pygments_lexer": "ipython3",
   "version": "3.8.8"
  }
 },
 "nbformat": 4,
 "nbformat_minor": 5
}
