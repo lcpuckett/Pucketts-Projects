{
 "cells": [
  {
   "cell_type": "code",
   "execution_count": 18,
   "id": "699926b2",
   "metadata": {
    "vscode": {
     "languageId": "r"
    }
   },
   "outputs": [
    {
     "data": {
      "text/html": [
       "<table>\n",
       "<thead><tr><th scope=col>ID</th><th scope=col>Gender</th><th scope=col>Race</th><th scope=col>Age_at_Release</th><th scope=col>Residence_PUMA</th><th scope=col>Gang_Affiliated</th><th scope=col>Supervision_Risk_Score_First</th><th scope=col>Supervision_Level_First</th><th scope=col>Education_Level</th><th scope=col>Dependents</th><th scope=col>...</th><th scope=col>DrugTests_Meth_Positive</th><th scope=col>DrugTests_Other_Positive</th><th scope=col>Percent_Days_Employed</th><th scope=col>Jobs_Per_Year</th><th scope=col>Employment_Exempt</th><th scope=col>Recidivism_Within_3years</th><th scope=col>Recidivism_Arrest_Year1</th><th scope=col>Recidivism_Arrest_Year2</th><th scope=col>Recidivism_Arrest_Year3</th><th scope=col>Training_Sample</th></tr></thead>\n",
       "<tbody>\n",
       "\t<tr><td>1                    </td><td>M                    </td><td>BLACK                </td><td>43-47                </td><td>16                   </td><td>false                </td><td>3                    </td><td>Standard             </td><td>At least some college</td><td>3 or more            </td><td>...                  </td><td>0.00000000           </td><td>0                    </td><td>0.4885621            </td><td>0.4476103            </td><td>false                </td><td>false                </td><td>false                </td><td>false                </td><td>false                </td><td>1                    </td></tr>\n",
       "\t<tr><td>2                    </td><td>M                    </td><td>BLACK                </td><td>33-37                </td><td>16                   </td><td>false                </td><td>6                    </td><td>Specialized          </td><td>Less than HS diploma </td><td>1                    </td><td>...                  </td><td>0.00000000           </td><td>0                    </td><td>0.4252336            </td><td>2.0000000            </td><td>false                </td><td>true                 </td><td>false                </td><td>false                </td><td>true                 </td><td>1                    </td></tr>\n",
       "\t<tr><td>3                    </td><td>M                    </td><td>BLACK                </td><td>48 or older          </td><td>24                   </td><td>false                </td><td>7                    </td><td>High                 </td><td>At least some college</td><td>3 or more            </td><td>...                  </td><td>0.16666667           </td><td>0                    </td><td>0.0000000            </td><td>0.0000000            </td><td>false                </td><td>true                 </td><td>false                </td><td>true                 </td><td>false                </td><td>1                    </td></tr>\n",
       "\t<tr><td>4                    </td><td>M                    </td><td>WHITE                </td><td>38-42                </td><td>16                   </td><td>false                </td><td>7                    </td><td>High                 </td><td>Less than HS diploma </td><td>1                    </td><td>...                  </td><td>0.00000000           </td><td>0                    </td><td>1.0000000            </td><td>0.7189961            </td><td>false                </td><td>false                </td><td>false                </td><td>false                </td><td>false                </td><td>1                    </td></tr>\n",
       "\t<tr><td>5                    </td><td>M                    </td><td>WHITE                </td><td>33-37                </td><td>16                   </td><td>false                </td><td>4                    </td><td>Specialized          </td><td>Less than HS diploma </td><td>3 or more            </td><td>...                  </td><td>0.05882353           </td><td>0                    </td><td>0.2035623            </td><td>0.9293893            </td><td>false                </td><td>true                 </td><td>true                 </td><td>false                </td><td>false                </td><td>1                    </td></tr>\n",
       "\t<tr><td>6                    </td><td>M                    </td><td>WHITE                </td><td>38-42                </td><td>17                   </td><td>false                </td><td>5                    </td><td>Standard             </td><td>High School Diploma  </td><td>0                    </td><td>...                  </td><td>0.00000000           </td><td>0                    </td><td>0.6742520            </td><td>0.3078382            </td><td>false                </td><td>false                </td><td>false                </td><td>false                </td><td>false                </td><td>0                    </td></tr>\n",
       "</tbody>\n",
       "</table>\n"
      ],
      "text/latex": [
       "\\begin{tabular}{r|llllllllllllllllllllllllllllllllllllllllllllllllllllll}\n",
       " ID & Gender & Race & Age\\_at\\_Release & Residence\\_PUMA & Gang\\_Affiliated & Supervision\\_Risk\\_Score\\_First & Supervision\\_Level\\_First & Education\\_Level & Dependents & ... & DrugTests\\_Meth\\_Positive & DrugTests\\_Other\\_Positive & Percent\\_Days\\_Employed & Jobs\\_Per\\_Year & Employment\\_Exempt & Recidivism\\_Within\\_3years & Recidivism\\_Arrest\\_Year1 & Recidivism\\_Arrest\\_Year2 & Recidivism\\_Arrest\\_Year3 & Training\\_Sample\\\\\n",
       "\\hline\n",
       "\t 1                     & M                     & BLACK                 & 43-47                 & 16                    & false                 & 3                     & Standard              & At least some college & 3 or more             & ...                   & 0.00000000            & 0                     & 0.4885621             & 0.4476103             & false                 & false                 & false                 & false                 & false                 & 1                    \\\\\n",
       "\t 2                     & M                     & BLACK                 & 33-37                 & 16                    & false                 & 6                     & Specialized           & Less than HS diploma  & 1                     & ...                   & 0.00000000            & 0                     & 0.4252336             & 2.0000000             & false                 & true                  & false                 & false                 & true                  & 1                    \\\\\n",
       "\t 3                     & M                     & BLACK                 & 48 or older           & 24                    & false                 & 7                     & High                  & At least some college & 3 or more             & ...                   & 0.16666667            & 0                     & 0.0000000             & 0.0000000             & false                 & true                  & false                 & true                  & false                 & 1                    \\\\\n",
       "\t 4                     & M                     & WHITE                 & 38-42                 & 16                    & false                 & 7                     & High                  & Less than HS diploma  & 1                     & ...                   & 0.00000000            & 0                     & 1.0000000             & 0.7189961             & false                 & false                 & false                 & false                 & false                 & 1                    \\\\\n",
       "\t 5                     & M                     & WHITE                 & 33-37                 & 16                    & false                 & 4                     & Specialized           & Less than HS diploma  & 3 or more             & ...                   & 0.05882353            & 0                     & 0.2035623             & 0.9293893             & false                 & true                  & true                  & false                 & false                 & 1                    \\\\\n",
       "\t 6                     & M                     & WHITE                 & 38-42                 & 17                    & false                 & 5                     & Standard              & High School Diploma   & 0                     & ...                   & 0.00000000            & 0                     & 0.6742520             & 0.3078382             & false                 & false                 & false                 & false                 & false                 & 0                    \\\\\n",
       "\\end{tabular}\n"
      ],
      "text/markdown": [
       "\n",
       "| ID | Gender | Race | Age_at_Release | Residence_PUMA | Gang_Affiliated | Supervision_Risk_Score_First | Supervision_Level_First | Education_Level | Dependents | ... | DrugTests_Meth_Positive | DrugTests_Other_Positive | Percent_Days_Employed | Jobs_Per_Year | Employment_Exempt | Recidivism_Within_3years | Recidivism_Arrest_Year1 | Recidivism_Arrest_Year2 | Recidivism_Arrest_Year3 | Training_Sample |\n",
       "|---|---|---|---|---|---|---|---|---|---|---|---|---|---|---|---|---|---|---|---|---|\n",
       "| 1                     | M                     | BLACK                 | 43-47                 | 16                    | false                 | 3                     | Standard              | At least some college | 3 or more             | ...                   | 0.00000000            | 0                     | 0.4885621             | 0.4476103             | false                 | false                 | false                 | false                 | false                 | 1                     |\n",
       "| 2                     | M                     | BLACK                 | 33-37                 | 16                    | false                 | 6                     | Specialized           | Less than HS diploma  | 1                     | ...                   | 0.00000000            | 0                     | 0.4252336             | 2.0000000             | false                 | true                  | false                 | false                 | true                  | 1                     |\n",
       "| 3                     | M                     | BLACK                 | 48 or older           | 24                    | false                 | 7                     | High                  | At least some college | 3 or more             | ...                   | 0.16666667            | 0                     | 0.0000000             | 0.0000000             | false                 | true                  | false                 | true                  | false                 | 1                     |\n",
       "| 4                     | M                     | WHITE                 | 38-42                 | 16                    | false                 | 7                     | High                  | Less than HS diploma  | 1                     | ...                   | 0.00000000            | 0                     | 1.0000000             | 0.7189961             | false                 | false                 | false                 | false                 | false                 | 1                     |\n",
       "| 5                     | M                     | WHITE                 | 33-37                 | 16                    | false                 | 4                     | Specialized           | Less than HS diploma  | 3 or more             | ...                   | 0.05882353            | 0                     | 0.2035623             | 0.9293893             | false                 | true                  | true                  | false                 | false                 | 1                     |\n",
       "| 6                     | M                     | WHITE                 | 38-42                 | 17                    | false                 | 5                     | Standard              | High School Diploma   | 0                     | ...                   | 0.00000000            | 0                     | 0.6742520             | 0.3078382             | false                 | false                 | false                 | false                 | false                 | 0                     |\n",
       "\n"
      ],
      "text/plain": [
       "  ID Gender Race  Age_at_Release Residence_PUMA Gang_Affiliated\n",
       "1 1  M      BLACK 43-47          16             false          \n",
       "2 2  M      BLACK 33-37          16             false          \n",
       "3 3  M      BLACK 48 or older    24             false          \n",
       "4 4  M      WHITE 38-42          16             false          \n",
       "5 5  M      WHITE 33-37          16             false          \n",
       "6 6  M      WHITE 38-42          17             false          \n",
       "  Supervision_Risk_Score_First Supervision_Level_First Education_Level      \n",
       "1 3                            Standard                At least some college\n",
       "2 6                            Specialized             Less than HS diploma \n",
       "3 7                            High                    At least some college\n",
       "4 7                            High                    Less than HS diploma \n",
       "5 4                            Specialized             Less than HS diploma \n",
       "6 5                            Standard                High School Diploma  \n",
       "  Dependents ... DrugTests_Meth_Positive DrugTests_Other_Positive\n",
       "1 3 or more  ... 0.00000000              0                       \n",
       "2 1          ... 0.00000000              0                       \n",
       "3 3 or more  ... 0.16666667              0                       \n",
       "4 1          ... 0.00000000              0                       \n",
       "5 3 or more  ... 0.05882353              0                       \n",
       "6 0          ... 0.00000000              0                       \n",
       "  Percent_Days_Employed Jobs_Per_Year Employment_Exempt\n",
       "1 0.4885621             0.4476103     false            \n",
       "2 0.4252336             2.0000000     false            \n",
       "3 0.0000000             0.0000000     false            \n",
       "4 1.0000000             0.7189961     false            \n",
       "5 0.2035623             0.9293893     false            \n",
       "6 0.6742520             0.3078382     false            \n",
       "  Recidivism_Within_3years Recidivism_Arrest_Year1 Recidivism_Arrest_Year2\n",
       "1 false                    false                   false                  \n",
       "2 true                     false                   false                  \n",
       "3 true                     false                   true                   \n",
       "4 false                    false                   false                  \n",
       "5 true                     true                    false                  \n",
       "6 false                    false                   false                  \n",
       "  Recidivism_Arrest_Year3 Training_Sample\n",
       "1 false                   1              \n",
       "2 true                    1              \n",
       "3 false                   1              \n",
       "4 false                   1              \n",
       "5 false                   1              \n",
       "6 false                   0              "
      ]
     },
     "metadata": {},
     "output_type": "display_data"
    }
   ],
   "source": [
    "Data <- read.csv(\"C:/Users/latri/Desktop/SCI SCHOOLING/FINAL PROJECT/First Choice Data.csv\", na.strings = c(\"\"), stringsAsFactors=TRUE)\n",
    "head(Data)\n",
    "#removed all unneeded columns\n",
    "data1 <- Data[ -c(5:8,10, 12:16,18:20,29:49,54) ]\n",
    "#made a table with just prior convictions if needed, used recoded data for any needed analysis"
   ]
  },
  {
   "cell_type": "code",
   "execution_count": 16,
   "id": "17977d46",
   "metadata": {
    "vscode": {
     "languageId": "r"
    }
   },
   "outputs": [
    {
     "name": "stderr",
     "output_type": "stream",
     "text": [
      "Warning message:\n",
      "\"package 'readxl' is in use and will not be installed\""
     ]
    },
    {
     "data": {
      "text/html": [
       "<table>\n",
       "<thead><tr><th scope=col>Month</th><th scope=col>Year</th><th scope=col>Murder</th><th scope=col>Rape</th><th scope=col>Robbery</th><th scope=col>Assault</th><th scope=col>Burglary</th><th scope=col>Larceny</th><th scope=col>Vehicle_Theft</th><th scope=col>TotalCrime</th><th scope=col>Unemploy_Georgia</th><th scope=col>Nat_Unemploy</th></tr></thead>\n",
       "<tbody>\n",
       "\t<tr><td>Jan  </td><td>2013 </td><td>56   </td><td>139  </td><td>1152 </td><td>1736 </td><td>7269 </td><td>17968</td><td>2418 </td><td>30738</td><td>0.091</td><td>0.080</td></tr>\n",
       "\t<tr><td>Feb  </td><td>2013 </td><td>32   </td><td>127  </td><td> 856 </td><td>1328 </td><td>5345 </td><td>14844</td><td>1872 </td><td>24404</td><td>0.086</td><td>0.077</td></tr>\n",
       "\t<tr><td>Mar  </td><td>2013 </td><td>38   </td><td>144  </td><td> 863 </td><td>1685 </td><td>5630 </td><td>16621</td><td>2129 </td><td>27110</td><td>0.082</td><td>0.075</td></tr>\n",
       "\t<tr><td>Apr  </td><td>2013 </td><td>42   </td><td>160  </td><td> 919 </td><td>1709 </td><td>6248 </td><td>17401</td><td>2035 </td><td>28514</td><td>0.079</td><td>0.076</td></tr>\n",
       "\t<tr><td>May  </td><td>2013 </td><td>41   </td><td>193  </td><td>1128 </td><td>1867 </td><td>7103 </td><td>19277</td><td>2105 </td><td>31714</td><td>0.082</td><td>0.075</td></tr>\n",
       "\t<tr><td>Jun  </td><td>2013 </td><td>55   </td><td>175  </td><td> 979 </td><td>1998 </td><td>6795 </td><td>18831</td><td>2355 </td><td>31188</td><td>0.089</td><td>0.075</td></tr>\n",
       "</tbody>\n",
       "</table>\n"
      ],
      "text/latex": [
       "\\begin{tabular}{r|llllllllllll}\n",
       " Month & Year & Murder & Rape & Robbery & Assault & Burglary & Larceny & Vehicle\\_Theft & TotalCrime & Unemploy\\_Georgia & Nat\\_Unemploy\\\\\n",
       "\\hline\n",
       "\t Jan   & 2013  & 56    & 139   & 1152  & 1736  & 7269  & 17968 & 2418  & 30738 & 0.091 & 0.080\\\\\n",
       "\t Feb   & 2013  & 32    & 127   &  856  & 1328  & 5345  & 14844 & 1872  & 24404 & 0.086 & 0.077\\\\\n",
       "\t Mar   & 2013  & 38    & 144   &  863  & 1685  & 5630  & 16621 & 2129  & 27110 & 0.082 & 0.075\\\\\n",
       "\t Apr   & 2013  & 42    & 160   &  919  & 1709  & 6248  & 17401 & 2035  & 28514 & 0.079 & 0.076\\\\\n",
       "\t May   & 2013  & 41    & 193   & 1128  & 1867  & 7103  & 19277 & 2105  & 31714 & 0.082 & 0.075\\\\\n",
       "\t Jun   & 2013  & 55    & 175   &  979  & 1998  & 6795  & 18831 & 2355  & 31188 & 0.089 & 0.075\\\\\n",
       "\\end{tabular}\n"
      ],
      "text/markdown": [
       "\n",
       "| Month | Year | Murder | Rape | Robbery | Assault | Burglary | Larceny | Vehicle_Theft | TotalCrime | Unemploy_Georgia | Nat_Unemploy |\n",
       "|---|---|---|---|---|---|---|---|---|---|---|---|\n",
       "| Jan   | 2013  | 56    | 139   | 1152  | 1736  | 7269  | 17968 | 2418  | 30738 | 0.091 | 0.080 |\n",
       "| Feb   | 2013  | 32    | 127   |  856  | 1328  | 5345  | 14844 | 1872  | 24404 | 0.086 | 0.077 |\n",
       "| Mar   | 2013  | 38    | 144   |  863  | 1685  | 5630  | 16621 | 2129  | 27110 | 0.082 | 0.075 |\n",
       "| Apr   | 2013  | 42    | 160   |  919  | 1709  | 6248  | 17401 | 2035  | 28514 | 0.079 | 0.076 |\n",
       "| May   | 2013  | 41    | 193   | 1128  | 1867  | 7103  | 19277 | 2105  | 31714 | 0.082 | 0.075 |\n",
       "| Jun   | 2013  | 55    | 175   |  979  | 1998  | 6795  | 18831 | 2355  | 31188 | 0.089 | 0.075 |\n",
       "\n"
      ],
      "text/plain": [
       "  Month Year Murder Rape Robbery Assault Burglary Larceny Vehicle_Theft\n",
       "1 Jan   2013 56     139  1152    1736    7269     17968   2418         \n",
       "2 Feb   2013 32     127   856    1328    5345     14844   1872         \n",
       "3 Mar   2013 38     144   863    1685    5630     16621   2129         \n",
       "4 Apr   2013 42     160   919    1709    6248     17401   2035         \n",
       "5 May   2013 41     193  1128    1867    7103     19277   2105         \n",
       "6 Jun   2013 55     175   979    1998    6795     18831   2355         \n",
       "  TotalCrime Unemploy_Georgia Nat_Unemploy\n",
       "1 30738      0.091            0.080       \n",
       "2 24404      0.086            0.077       \n",
       "3 27110      0.082            0.075       \n",
       "4 28514      0.079            0.076       \n",
       "5 31714      0.082            0.075       \n",
       "6 31188      0.089            0.075       "
      ]
     },
     "metadata": {},
     "output_type": "display_data"
    },
    {
     "data": {
      "text/html": [
       "<table>\n",
       "<thead><tr><th scope=col>ID</th><th scope=col>Gender</th><th scope=col>Race</th><th scope=col>Age_at_Release</th><th scope=col>Education_Level</th><th scope=col>Prison_Offense</th><th scope=col>Prior_Arrest_Episodes_Drug</th><th scope=col>Prior_Conviction_Episodes_Felony</th><th scope=col>Prior_Conviction_Episodes_Misd</th><th scope=col>Prior_Conviction_Episodes_Viol</th><th scope=col>Prior_Conviction_Episodes_Prop</th><th scope=col>Prior_Conviction_Episodes_Drug</th><th scope=col>Prior_Conviction_Episodes_PPViolationCharges</th><th scope=col>Prior_Conviction_Episodes_DomesticViolenceCharges</th><th scope=col>Prior_Conviction_Episodes_GunCharges</th><th scope=col>Recidivism_Within_3years</th><th scope=col>Recidivism_Arrest_Year1</th><th scope=col>Recidivism_Arrest_Year2</th><th scope=col>Recidivism_Arrest_Year3</th></tr></thead>\n",
       "<tbody>\n",
       "\t<tr><td>1          </td><td>M          </td><td>BLACK      </td><td>43-47      </td><td>3          </td><td>0          </td><td>3          </td><td>3          </td><td>3          </td><td>1          </td><td>2          </td><td>2          </td><td>1          </td><td>1          </td><td>1          </td><td>1          </td><td>1          </td><td>1          </td><td>1          </td></tr>\n",
       "\t<tr><td>2          </td><td>M          </td><td>BLACK      </td><td>33-37      </td><td>1          </td><td>3          </td><td>3          </td><td>3          </td><td>4          </td><td>0          </td><td>0          </td><td>2          </td><td>0          </td><td>0          </td><td>0          </td><td>0          </td><td>1          </td><td>1          </td><td>0          </td></tr>\n",
       "\t<tr><td>3          </td><td>M          </td><td>BLACK      </td><td>48 or older</td><td>3          </td><td>0          </td><td>2          </td><td>3          </td><td>2          </td><td>0          </td><td>1          </td><td>2          </td><td>1          </td><td>0          </td><td>1          </td><td>0          </td><td>1          </td><td>0          </td><td>1          </td></tr>\n",
       "\t<tr><td>4          </td><td>M          </td><td>WHITE      </td><td>38-42      </td><td>1          </td><td>2          </td><td>3          </td><td>3          </td><td>4          </td><td>1          </td><td>3          </td><td>2          </td><td>1          </td><td>1          </td><td>1          </td><td>1          </td><td>1          </td><td>1          </td><td>1          </td></tr>\n",
       "\t<tr><td>5          </td><td>M          </td><td>WHITE      </td><td>33-37      </td><td>1          </td><td>3          </td><td>1          </td><td>1          </td><td>0          </td><td>0          </td><td>0          </td><td>1          </td><td>1          </td><td>1          </td><td>1          </td><td>0          </td><td>0          </td><td>1          </td><td>1          </td></tr>\n",
       "\t<tr><td>6          </td><td>M          </td><td>WHITE      </td><td>38-42      </td><td>2          </td><td>2          </td><td>0          </td><td>1          </td><td>0          </td><td>1          </td><td>2          </td><td>0          </td><td>1          </td><td>1          </td><td>1          </td><td>1          </td><td>1          </td><td>1          </td><td>1          </td></tr>\n",
       "</tbody>\n",
       "</table>\n"
      ],
      "text/latex": [
       "\\begin{tabular}{r|lllllllllllllllllll}\n",
       " ID & Gender & Race & Age\\_at\\_Release & Education\\_Level & Prison\\_Offense & Prior\\_Arrest\\_Episodes\\_Drug & Prior\\_Conviction\\_Episodes\\_Felony & Prior\\_Conviction\\_Episodes\\_Misd & Prior\\_Conviction\\_Episodes\\_Viol & Prior\\_Conviction\\_Episodes\\_Prop & Prior\\_Conviction\\_Episodes\\_Drug & Prior\\_Conviction\\_Episodes\\_PPViolationCharges & Prior\\_Conviction\\_Episodes\\_DomesticViolenceCharges & Prior\\_Conviction\\_Episodes\\_GunCharges & Recidivism\\_Within\\_3years & Recidivism\\_Arrest\\_Year1 & Recidivism\\_Arrest\\_Year2 & Recidivism\\_Arrest\\_Year3\\\\\n",
       "\\hline\n",
       "\t 1           & M           & BLACK       & 43-47       & 3           & 0           & 3           & 3           & 3           & 1           & 2           & 2           & 1           & 1           & 1           & 1           & 1           & 1           & 1          \\\\\n",
       "\t 2           & M           & BLACK       & 33-37       & 1           & 3           & 3           & 3           & 4           & 0           & 0           & 2           & 0           & 0           & 0           & 0           & 1           & 1           & 0          \\\\\n",
       "\t 3           & M           & BLACK       & 48 or older & 3           & 0           & 2           & 3           & 2           & 0           & 1           & 2           & 1           & 0           & 1           & 0           & 1           & 0           & 1          \\\\\n",
       "\t 4           & M           & WHITE       & 38-42       & 1           & 2           & 3           & 3           & 4           & 1           & 3           & 2           & 1           & 1           & 1           & 1           & 1           & 1           & 1          \\\\\n",
       "\t 5           & M           & WHITE       & 33-37       & 1           & 3           & 1           & 1           & 0           & 0           & 0           & 1           & 1           & 1           & 1           & 0           & 0           & 1           & 1          \\\\\n",
       "\t 6           & M           & WHITE       & 38-42       & 2           & 2           & 0           & 1           & 0           & 1           & 2           & 0           & 1           & 1           & 1           & 1           & 1           & 1           & 1          \\\\\n",
       "\\end{tabular}\n"
      ],
      "text/markdown": [
       "\n",
       "| ID | Gender | Race | Age_at_Release | Education_Level | Prison_Offense | Prior_Arrest_Episodes_Drug | Prior_Conviction_Episodes_Felony | Prior_Conviction_Episodes_Misd | Prior_Conviction_Episodes_Viol | Prior_Conviction_Episodes_Prop | Prior_Conviction_Episodes_Drug | Prior_Conviction_Episodes_PPViolationCharges | Prior_Conviction_Episodes_DomesticViolenceCharges | Prior_Conviction_Episodes_GunCharges | Recidivism_Within_3years | Recidivism_Arrest_Year1 | Recidivism_Arrest_Year2 | Recidivism_Arrest_Year3 |\n",
       "|---|---|---|---|---|---|---|---|---|---|---|---|---|---|---|---|---|---|---|\n",
       "| 1           | M           | BLACK       | 43-47       | 3           | 0           | 3           | 3           | 3           | 1           | 2           | 2           | 1           | 1           | 1           | 1           | 1           | 1           | 1           |\n",
       "| 2           | M           | BLACK       | 33-37       | 1           | 3           | 3           | 3           | 4           | 0           | 0           | 2           | 0           | 0           | 0           | 0           | 1           | 1           | 0           |\n",
       "| 3           | M           | BLACK       | 48 or older | 3           | 0           | 2           | 3           | 2           | 0           | 1           | 2           | 1           | 0           | 1           | 0           | 1           | 0           | 1           |\n",
       "| 4           | M           | WHITE       | 38-42       | 1           | 2           | 3           | 3           | 4           | 1           | 3           | 2           | 1           | 1           | 1           | 1           | 1           | 1           | 1           |\n",
       "| 5           | M           | WHITE       | 33-37       | 1           | 3           | 1           | 1           | 0           | 0           | 0           | 1           | 1           | 1           | 1           | 0           | 0           | 1           | 1           |\n",
       "| 6           | M           | WHITE       | 38-42       | 2           | 2           | 0           | 1           | 0           | 1           | 2           | 0           | 1           | 1           | 1           | 1           | 1           | 1           | 1           |\n",
       "\n"
      ],
      "text/plain": [
       "  ID Gender Race  Age_at_Release Education_Level Prison_Offense\n",
       "1 1  M      BLACK 43-47          3               0             \n",
       "2 2  M      BLACK 33-37          1               3             \n",
       "3 3  M      BLACK 48 or older    3               0             \n",
       "4 4  M      WHITE 38-42          1               2             \n",
       "5 5  M      WHITE 33-37          1               3             \n",
       "6 6  M      WHITE 38-42          2               2             \n",
       "  Prior_Arrest_Episodes_Drug Prior_Conviction_Episodes_Felony\n",
       "1 3                          3                               \n",
       "2 3                          3                               \n",
       "3 2                          3                               \n",
       "4 3                          3                               \n",
       "5 1                          1                               \n",
       "6 0                          1                               \n",
       "  Prior_Conviction_Episodes_Misd Prior_Conviction_Episodes_Viol\n",
       "1 3                              1                             \n",
       "2 4                              0                             \n",
       "3 2                              0                             \n",
       "4 4                              1                             \n",
       "5 0                              0                             \n",
       "6 0                              1                             \n",
       "  Prior_Conviction_Episodes_Prop Prior_Conviction_Episodes_Drug\n",
       "1 2                              2                             \n",
       "2 0                              2                             \n",
       "3 1                              2                             \n",
       "4 3                              2                             \n",
       "5 0                              1                             \n",
       "6 2                              0                             \n",
       "  Prior_Conviction_Episodes_PPViolationCharges\n",
       "1 1                                           \n",
       "2 0                                           \n",
       "3 1                                           \n",
       "4 1                                           \n",
       "5 1                                           \n",
       "6 1                                           \n",
       "  Prior_Conviction_Episodes_DomesticViolenceCharges\n",
       "1 1                                                \n",
       "2 0                                                \n",
       "3 0                                                \n",
       "4 1                                                \n",
       "5 1                                                \n",
       "6 1                                                \n",
       "  Prior_Conviction_Episodes_GunCharges Recidivism_Within_3years\n",
       "1 1                                    1                       \n",
       "2 0                                    0                       \n",
       "3 1                                    0                       \n",
       "4 1                                    1                       \n",
       "5 1                                    0                       \n",
       "6 1                                    1                       \n",
       "  Recidivism_Arrest_Year1 Recidivism_Arrest_Year2 Recidivism_Arrest_Year3\n",
       "1 1                       1                       1                      \n",
       "2 1                       1                       0                      \n",
       "3 1                       0                       1                      \n",
       "4 1                       1                       1                      \n",
       "5 0                       1                       1                      \n",
       "6 1                       1                       1                      "
      ]
     },
     "metadata": {},
     "output_type": "display_data"
    }
   ],
   "source": [
    "#second data set to look at unemployment by month/ year and how it effects crime, need to do some analysis still!\n",
    "install.packages(\"readxl\")\n",
    "library(readxl)\n",
    "nojob= read_excel(\"C:/Users/latri/Desktop/SCI SCHOOLING/FINAL PROJECT/Woz-U-final-Project/Unemployment and Crime.xlsx\")\n",
    "head(nojob)\n",
    "dataR= read_excel(\"C:/Users/latri/Desktop/SCI SCHOOLING/FINAL PROJECT/DataR.xlsx\")\n",
    "head(dataR)"
   ]
  },
  {
   "cell_type": "code",
   "execution_count": null,
   "id": "5567651e",
   "metadata": {
    "collapsed": true,
    "vscode": {
     "languageId": "r"
    }
   },
   "outputs": [],
   "source": [
    "install.packages(\"ggplot2\")\n",
    "install.packages(\"dbplyr\")\n",
    "install.packages(\"tidyr\") \n",
    "install.packages(\"tidyverse\")\n",
    "install.packages(\"lattice\") \n",
    "install.packages(\"gmodels\") \n",
    "install.packages(\"rcompanion\")\n",
    "install.packages(\"corrplot\")\n",
    "install.packages(\"PerformanceAnalytics\")"
   ]
  },
  {
   "cell_type": "code",
   "execution_count": null,
   "id": "3264bb6c",
   "metadata": {
    "collapsed": true,
    "vscode": {
     "languageId": "r"
    }
   },
   "outputs": [],
   "source": [
    "#all the packages!\n",
    "library(ggplot2)  \n",
    "library(lattice)\n",
    "library(\"gmodels\")\n",
    "library(\"rcompanion\")\n",
    "library(\"PerformanceAnalytics\")\n",
    "library(\"corrplot\")"
   ]
  },
  {
   "cell_type": "code",
   "execution_count": null,
   "id": "4d82e4f0",
   "metadata": {
    "vscode": {
     "languageId": "r"
    }
   },
   "outputs": [],
   "source": [
    "#removing empty cells, looked like there were only 3277\n",
    "data2= na.omit(data1)\n",
    "\n",
    "str(data2)\n",
    "#everything is a factor with multiple levels, should be able to do some analysis and significant testing, or can recode data into numbers."
   ]
  },
  {
   "cell_type": "code",
   "execution_count": null,
   "id": "61bdaae9",
   "metadata": {
    "collapsed": true,
    "vscode": {
     "languageId": "r"
    }
   },
   "outputs": [],
   "source": [
    "#recoding prior convictions, education level and prison offense. les is doing all other needed recodes. \n",
    "dataR= mutate(data2, Prior_Conviction_Episodes_Felony=recode(Prior_Conviction_Episodes_Felony,\"0\"=0, \"1\"=1, \"2\"=2, \"3 or more\"= 3),\n",
    "              Prior_Conviction_Episodes_Misd=recode(Prior_Conviction_Episodes_Misd,\"0\"=0, \"1\"=1, \"2\"=2, \"3\"= 3, \"4 or more\"= 4),\n",
    "              Prior_Conviction_Episodes_Viol=recode(Prior_Conviction_Episodes_Viol, \"true\"=0, \"false\"=1), \n",
    "              Prior_Conviction_Episodes_Prop=recode(Prior_Conviction_Episodes_Prop,\"0\"=0, \"1\"=1, \"2\"=2, \"3 or more\"= 3),\n",
    "              Prior_Conviction_Episodes_Drug=recode(Prior_Conviction_Episodes_Drug,\"0\"=0, \"1\"=1, \"2 or more\"= 2),\n",
    "              Prior_Conviction_Episodes_PPViolationCharges=recode(Prior_Conviction_Episodes_PPViolationCharges,\"true\"=0, \"false\"=1),\n",
    "              Prior_Conviction_Episodes_DomesticViolenceCharges=recode(Prior_Conviction_Episodes_DomesticViolenceCharges,\"true\"=0, \"false\"=1),\n",
    "              Prior_Conviction_Episodes_GunCharges=recode(Prior_Conviction_Episodes_GunCharges,\"true\"=0, \"false\"=1),\n",
    "              Education_Level=recode(Education_Level,\"At least some college\"=3, \"High School Diploma\"=2, \"Less than HS diploma\"=1),\n",
    "              Prison_Offense=recode(Prison_Offense,\"Drug\"=0, \"Other\"=1, \"Property\"=2, \"Violent/Non-Sex\"= 3, \"Violent/Sex\"=4)\n",
    ")"
   ]
  },
  {
   "cell_type": "markdown",
   "id": "143736dc",
   "metadata": {},
   "source": [
    "# Plots"
   ]
  },
  {
   "cell_type": "code",
   "execution_count": 15,
   "id": "f7e38b9e",
   "metadata": {
    "collapsed": true,
    "vscode": {
     "languageId": "r"
    }
   },
   "outputs": [
    {
     "data": {
      "image/png": "[encoded data removed]",
      "text/plain": [
       "plot without title"
      ]
     },
     "metadata": {},
     "output_type": "display_data"
    },
    {
     "data": {
      "image/png": "[encoded data removed]",
      "text/plain": [
       "plot without title"
      ]
     },
     "metadata": {},
     "output_type": "display_data"
    },
    {
     "data": {
      "image/png": "[encoded data removed]",
      "text/plain": [
       "plot without title"
      ]
     },
     "metadata": {},
     "output_type": "display_data"
    },
    {
     "data": {
      "image/png": "[encoded data removed]",
      "text/plain": [
       "plot without title"
      ]
     },
     "metadata": {},
     "output_type": "display_data"
    },
    {
     "data": {
      "image/png": "[encoded data removed]",
      "text/plain": [
       "plot without title"
      ]
     },
     "metadata": {},
     "output_type": "display_data"
    },
    {
     "data": {
      "image/png": "[encoded data removed]",
      "text/plain": [
       "plot without title"
      ]
     },
     "metadata": {},
     "output_type": "display_data"
    }
   ],
   "source": [
    "\n",
    "ggplot(data2, aes(Prison_Offense))+ geom_bar(fill=\"navyblue\")\n",
    "#lots of property offenses\n",
    "\n",
    "ggplot(data2, aes(Age_at_Release))+ geom_bar(fill=\"navyblue\")\n",
    "#majority of people released are between 23- 32, then numbers drop! matches anecdotal info 25 is golden year for rearrest\n",
    "\n",
    "ggplot(data2, aes(Education_Level))+ geom_bar(fill=\"navyblue\")\n",
    "#very few college educated getting arrested, mostly high school grads and then some with no diploma\n",
    "\n",
    "ggplot(data2, aes(Prior_Arrest_Episodes_Drug))+geom_bar(fill=\"navyblue\")\n",
    "#once again looking at connection to drugs, the majority have 0 prior arrests, the least having four or \"5 or more\"\n",
    "\n",
    "ggplot(data2, aes(Prior_Conviction_Episodes_Drug))+geom_bar(fill=\"navyblue\")\n",
    "#this again shows that majority of people dont have many drug convictions, like there are with property\n",
    "\n",
    "ggplot(Data, aes(Prior_Arrest_Episodes_Violent))+geom_bar(fill=\"navyblue\")"
   ]
  },
  {
   "cell_type": "code",
   "execution_count": 10,
   "id": "c07e24ed",
   "metadata": {
    "collapsed": true,
    "vscode": {
     "languageId": "r"
    }
   },
   "outputs": [
    {
     "data": {
      "image/png": "[encoded data removed]",
      "text/plain": [
       "plot without title"
      ]
     },
     "metadata": {},
     "output_type": "display_data"
    },
    {
     "data": {
      "image/png": "[encoded data removed]",
      "text/plain": [
       "plot without title"
      ]
     },
     "metadata": {},
     "output_type": "display_data"
    },
    {
     "data": {
      "image/png": "[encoded data removed]",
      "text/plain": [
       "plot without title"
      ]
     },
     "metadata": {},
     "output_type": "display_data"
    },
    {
     "data": {
      "image/png": "[encoded data removed]",
      "text/plain": [
       "plot without title"
      ]
     },
     "metadata": {},
     "output_type": "display_data"
    }
   ],
   "source": [
    "#checking the instances of people being arrested by each year and overall\n",
    "ggplot(data2, aes(Recidivism_Arrest_Year1))+ geom_bar(fill=\"navyblue\")\n",
    "ggplot(data2, aes(Recidivism_Arrest_Year2))+ geom_bar(fill=\"navyblue\")\n",
    "ggplot(data2, aes(Recidivism_Arrest_Year3))+ geom_bar(fill=\"navyblue\")\n",
    "ggplot(data2, aes(Recidivism_Within_3years))+ geom_bar(fill=\"navyblue\")\n",
    "#seems as if the most people that do get arrested again do so in the First year\n",
    "#we can check this"
   ]
  },
  {
   "cell_type": "code",
   "execution_count": 11,
   "id": "11161823",
   "metadata": {
    "vscode": {
     "languageId": "r"
    }
   },
   "outputs": [],
   "source": [
    "#subsetting data to convictions with education level\n",
    "dataR1= dataR[, c(5,6,8,9,10,11,12,16:19)]\n"
   ]
  },
  {
   "cell_type": "markdown",
   "id": "6ec179c2",
   "metadata": {},
   "source": [
    "# Correlation tests"
   ]
  },
  {
   "cell_type": "code",
   "execution_count": 12,
   "id": "c9a893ab",
   "metadata": {
    "vscode": {
     "languageId": "r"
    }
   },
   "outputs": [
    {
     "data": {
      "text/plain": [
       "\n",
       "\tPearson's product-moment correlation\n",
       "\n",
       "data:  dataR1$Recidivism_Within_3years and dataR1$Recidivism_Arrest_Year1\n",
       "t = 100.75, df = 22556, p-value < 2.2e-16\n",
       "alternative hypothesis: true correlation is not equal to 0\n",
       "95 percent confidence interval:\n",
       " 0.5480448 0.5660447\n",
       "sample estimates:\n",
       "      cor \n",
       "0.5571102 \n"
      ]
     },
     "metadata": {},
     "output_type": "display_data"
    },
    {
     "data": {
      "text/plain": [
       "\n",
       "\tPearson's product-moment correlation\n",
       "\n",
       "data:  dataR1$Recidivism_Within_3years and dataR1$Recidivism_Arrest_Year2\n",
       "t = 64.877, df = 22556, p-value < 2.2e-16\n",
       "alternative hypothesis: true correlation is not equal to 0\n",
       "95 percent confidence interval:\n",
       " 0.3855036 0.4074993\n",
       "sample estimates:\n",
       "      cor \n",
       "0.3965583 \n"
      ]
     },
     "metadata": {},
     "output_type": "display_data"
    },
    {
     "data": {
      "text/plain": [
       "\n",
       "\tPearson's product-moment correlation\n",
       "\n",
       "data:  dataR1$Recidivism_Within_3years and dataR1$Recidivism_Arrest_Year3\n",
       "t = 45.189, df = 22556, p-value < 2.2e-16\n",
       "alternative hypothesis: true correlation is not equal to 0\n",
       "95 percent confidence interval:\n",
       " 0.2761124 0.3000455\n",
       "sample estimates:\n",
       "     cor \n",
       "0.288124 \n"
      ]
     },
     "metadata": {},
     "output_type": "display_data"
    }
   ],
   "source": [
    "cor.test(dataR1$Recidivism_Within_3years, dataR1$Recidivism_Arrest_Year1, method=\"pearson\", use = \"complete.obs\")\n",
    "cor.test(dataR1$Recidivism_Within_3years, dataR1$Recidivism_Arrest_Year2, method=\"pearson\", use = \"complete.obs\")\n",
    "cor.test(dataR1$Recidivism_Within_3years, dataR1$Recidivism_Arrest_Year3, method=\"pearson\", use = \"complete.obs\")\n",
    "#Correlation between arrests within three years is highest within 1 year"
   ]
  },
  {
   "cell_type": "markdown",
   "id": "4546b5ee",
   "metadata": {},
   "source": [
    "# New data set for unemployment and crime"
   ]
  },
  {
   "cell_type": "code",
   "execution_count": 19,
   "id": "9009d93e",
   "metadata": {
    "vscode": {
     "languageId": "r"
    }
   },
   "outputs": [
    {
     "data": {
      "text/plain": [
       "\n",
       "\tPearson's product-moment correlation\n",
       "\n",
       "data:  nojob$TotalCrime and nojob$Unemploy_Georgia\n",
       "t = 2.4204, df = 34, p-value = 0.021\n",
       "alternative hypothesis: true correlation is not equal to 0\n",
       "95 percent confidence interval:\n",
       " 0.06274641 0.63227710\n",
       "sample estimates:\n",
       "     cor \n",
       "0.383379 \n"
      ]
     },
     "metadata": {},
     "output_type": "display_data"
    },
    {
     "data": {
      "image/png": "[encoded data removed]",
      "text/plain": [
       "plot without title"
      ]
     },
     "metadata": {},
     "output_type": "display_data"
    }
   ],
   "source": [
    "ggplot(nojob, aes(x = TotalCrime, y = Unemploy_Georgia))+geom_point()+geom_smooth(method=lm, color = \"aquamarine\")\n",
    "#positive correlation between crime and unemployment \n",
    "#large margin of error\n",
    "#How strong\n",
    "cor.test(nojob$TotalCrime, nojob$Unemploy_Georgia, method=\"pearson\", use = \"complete.obs\")\n",
    "#significantly correlated, but only a 0.38, weak correlation"
   ]
  },
  {
   "cell_type": "code",
   "execution_count": 16,
   "id": "e243f902",
   "metadata": {
    "vscode": {
     "languageId": "r"
    }
   },
   "outputs": [
    {
     "data": {
      "image/png": "[encoded data removed]",
      "text/plain": [
       "plot without title"
      ]
     },
     "metadata": {},
     "output_type": "display_data"
    }
   ],
   "source": [
    "#checking which crime is most correlated with unemployment\n",
    "nojob1=nojob[, c(3:11)]\n",
    "chart.Correlation(nojob1, histogram=FALSE, method=\"pearson\")\n",
    "#Assault and Rape very correlated. \n",
    "#Total crime and burglary/ larceny highly correlated.\n",
    "#unemployment and burglary are moderately correlated!"
   ]
  },
  {
   "cell_type": "code",
   "execution_count": 17,
   "id": "9fb0c47f",
   "metadata": {
    "vscode": {
     "languageId": "r"
    }
   },
   "outputs": [
    {
     "data": {
      "text/plain": [
       "\n",
       "\tPearson's product-moment correlation\n",
       "\n",
       "data:  nojob$Burglary and nojob$Unemploy_Georgia\n",
       "t = 4.8623, df = 34, p-value = 2.589e-05\n",
       "alternative hypothesis: true correlation is not equal to 0\n",
       "95 percent confidence interval:\n",
       " 0.3950109 0.8005333\n",
       "sample estimates:\n",
       "      cor \n",
       "0.6404341 \n"
      ]
     },
     "metadata": {},
     "output_type": "display_data"
    }
   ],
   "source": [
    "#look over our new results\n",
    "cor.test(nojob$Burglary, nojob$Unemploy_Georgia, method=\"pearson\", use = \"complete.obs\")\n",
    "#very significant high correlation with unemployment\n",
    "#strong, 0.64 correlation! \n",
    "#This matches what we are seeing in the NIJ data set, propery crimes are the highest"
   ]
  },
  {
   "cell_type": "markdown",
   "id": "093b05f5",
   "metadata": {},
   "source": [
    "# Looking at significance for each correlation"
   ]
  },
  {
   "cell_type": "markdown",
   "id": "d586e5ef",
   "metadata": {},
   "source": [
    "### age against prison offense and returning to jail"
   ]
  },
  {
   "cell_type": "code",
   "execution_count": 12,
   "id": "1cff4e8d",
   "metadata": {
    "collapsed": true,
    "vscode": {
     "languageId": "r"
    }
   },
   "outputs": [
    {
     "name": "stdout",
     "output_type": "stream",
     "text": [
      "\n",
      "   Cell Contents\n",
      "|-------------------------|\n",
      "|                   Count |\n",
      "|         Expected Values |\n",
      "| Chi-square contribution |\n",
      "|             Row Percent |\n",
      "|          Column Percent |\n",
      "|           Total Percent |\n",
      "|            Std Residual |\n",
      "|-------------------------|\n",
      "\n",
      "Total Observations in Table:  22558 \n",
      "\n",
      "                     | data2$Prison_Offense \n",
      "data2$Age_at_Release |            Drug  |           Other  |        Property  | Violent/Non-Sex  |     Violent/Sex  |       Row Total | \n",
      "---------------------|-----------------|-----------------|-----------------|-----------------|-----------------|-----------------|\n",
      "               18-22 |            184  |            234  |            789  |            501  |             62  |           1770  | \n",
      "                     |        407.230  |        218.053  |        649.999  |        429.593  |         65.125  |                 | \n",
      "                     |        122.367  |          1.166  |         29.725  |         11.869  |          0.150  |                 | \n",
      "                     |         10.395% |         13.220% |         44.576% |         28.305% |          3.503% |          7.846% | \n",
      "                     |          3.545% |          8.420% |          9.524% |          9.151% |          7.470% |                 | \n",
      "                     |          0.816% |          1.037% |          3.498% |          2.221% |          0.275% |                 | \n",
      "                     |        -11.062  |          1.080  |          5.452  |          3.445  |         -0.387  |                 | \n",
      "---------------------|-----------------|-----------------|-----------------|-----------------|-----------------|-----------------|\n",
      "               23-27 |            760  |            516  |           1737  |           1351  |            139  |           4503  | \n",
      "                     |       1036.021  |        554.741  |       1653.642  |       1092.913  |        165.684  |                 | \n",
      "                     |         73.539  |          2.705  |          4.202  |         60.946  |          4.297  |                 | \n",
      "                     |         16.878% |         11.459% |         38.574% |         30.002% |          3.087% |         19.962% | \n",
      "                     |         14.644% |         18.568% |         20.968% |         24.676% |         16.747% |                 | \n",
      "                     |          3.369% |          2.287% |          7.700% |          5.989% |          0.616% |                 | \n",
      "                     |         -8.575  |         -1.645  |          2.050  |          7.807  |         -2.073  |                 | \n",
      "---------------------|-----------------|-----------------|-----------------|-----------------|-----------------|-----------------|\n",
      "               28-32 |           1126  |            640  |           1354  |           1016  |            136  |           4272  | \n",
      "                     |        982.874  |        526.283  |       1568.811  |       1036.847  |        157.184  |                 | \n",
      "                     |         20.842  |         24.572  |         29.413  |          0.419  |          2.855  |                 | \n",
      "                     |         26.358% |         14.981% |         31.695% |         23.783% |          3.184% |         18.938% | \n",
      "                     |         21.696% |         23.030% |         16.345% |         18.557% |         16.386% |                 | \n",
      "                     |          4.992% |          2.837% |          6.002% |          4.504% |          0.603% |                 | \n",
      "                     |          4.565  |          4.957  |         -5.423  |         -0.647  |         -1.690  |                 | \n",
      "---------------------|-----------------|-----------------|-----------------|-----------------|-----------------|-----------------|\n",
      "               33-37 |           1018  |            575  |           1182  |            796  |             97  |           3668  | \n",
      "                     |        843.910  |        451.874  |       1347.004  |        890.252  |        134.961  |                 | \n",
      "                     |         35.913  |         33.549  |         20.212  |          9.979  |         10.677  |                 | \n",
      "                     |         27.754% |         15.676% |         32.225% |         21.701% |          2.644% |         16.260% | \n",
      "                     |         19.615% |         20.691% |         14.268% |         14.539% |         11.687% |                 | \n",
      "                     |          4.513% |          2.549% |          5.240% |          3.529% |          0.430% |                 | \n",
      "                     |          5.993  |          5.792  |         -4.496  |         -3.159  |         -3.268  |                 | \n",
      "---------------------|-----------------|-----------------|-----------------|-----------------|-----------------|-----------------|\n",
      "               38-42 |            753  |            299  |            913  |            571  |             84  |           2620  | \n",
      "                     |        602.793  |        322.767  |        962.146  |        635.894  |         96.400  |                 | \n",
      "                     |         37.429  |          1.750  |          2.510  |          6.623  |          1.595  |                 | \n",
      "                     |         28.740% |         11.412% |         34.847% |         21.794% |          3.206% |         11.615% | \n",
      "                     |         14.509% |         10.759% |         11.021% |         10.429% |         10.120% |                 | \n",
      "                     |          3.338% |          1.325% |          4.047% |          2.531% |          0.372% |                 | \n",
      "                     |          6.118  |         -1.323  |         -1.584  |         -2.573  |         -1.263  |                 | \n",
      "---------------------|-----------------|-----------------|-----------------|-----------------|-----------------|-----------------|\n",
      "               43-47 |            565  |            236  |            983  |            460  |            109  |           2353  | \n",
      "                     |        541.363  |        289.874  |        864.095  |        571.091  |         86.576  |                 | \n",
      "                     |          1.032  |         10.013  |         16.362  |         21.610  |          5.808  |                 | \n",
      "                     |         24.012% |         10.030% |         41.776% |         19.550% |          4.632% |         10.431% | \n",
      "                     |         10.886% |          8.492% |         11.866% |          8.402% |         13.133% |                 | \n",
      "                     |          2.505% |          1.046% |          4.358% |          2.039% |          0.483% |                 | \n",
      "                     |          1.016  |         -3.164  |          4.045  |         -4.649  |          2.410  |                 | \n",
      "---------------------|-----------------|-----------------|-----------------|-----------------|-----------------|-----------------|\n",
      "         48 or older |            784  |            279  |           1326  |            780  |            203  |           3372  | \n",
      "                     |        775.808  |        415.409  |       1238.303  |        818.410  |        124.070  |                 | \n",
      "                     |          0.086  |         44.793  |          6.211  |          1.803  |         50.214  |                 | \n",
      "                     |         23.250% |          8.274% |         39.324% |         23.132% |          6.020% |         14.948% | \n",
      "                     |         15.106% |         10.040% |         16.007% |         14.247% |         24.458% |                 | \n",
      "                     |          3.475% |          1.237% |          5.878% |          3.458% |          0.900% |                 | \n",
      "                     |          0.294  |         -6.693  |          2.492  |         -1.343  |          7.086  |                 | \n",
      "---------------------|-----------------|-----------------|-----------------|-----------------|-----------------|-----------------|\n",
      "        Column Total |           5190  |           2779  |           8284  |           5475  |            830  |          22558  | \n",
      "                     |         23.007% |         12.319% |         36.723% |         24.271% |          3.679% |                 | \n",
      "---------------------|-----------------|-----------------|-----------------|-----------------|-----------------|-----------------|\n",
      "\n",
      " \n",
      "Statistics for All Table Factors\n",
      "\n",
      "\n",
      "Pearson's Chi-squared test \n",
      "------------------------------------------------------------\n",
      "Chi^2 =  707.2387     d.f. =  24     p =  7.438758e-134 \n",
      "\n",
      "\n",
      " \n",
      "       Minimum expected frequency: 65.12545 \n",
      "\n"
     ]
    },
    {
     "name": "stdout",
     "output_type": "stream",
     "text": [
      "\n",
      "   Cell Contents\n",
      "|-------------------------|\n",
      "|                   Count |\n",
      "|         Expected Values |\n",
      "| Chi-square contribution |\n",
      "|             Row Percent |\n",
      "|          Column Percent |\n",
      "|           Total Percent |\n",
      "|            Std Residual |\n",
      "|-------------------------|\n",
      "\n",
      "Total Observations in Table:  22558 \n",
      "\n",
      "                     | data2$Recidivism_Arrest_Year1 \n",
      "data2$Age_at_Release |    false  |     true  | Row Total | \n",
      "---------------------|-----------|-----------|-----------|\n",
      "               18-22 |     1016  |      754  |     1770  | \n",
      "                     | 1241.307  |  528.693  |           | \n",
      "                     |   40.895  |   96.016  |           | \n",
      "                     |   57.401% |   42.599% |    7.846% | \n",
      "                     |    6.422% |   11.190% |           | \n",
      "                     |    4.504% |    3.342% |           | \n",
      "                     |   -6.395  |    9.799  |           | \n",
      "---------------------|-----------|-----------|-----------|\n",
      "               23-27 |     2887  |     1616  |     4503  | \n",
      "                     | 3157.969  | 1345.031  |           | \n",
      "                     |   23.250  |   54.589  |           | \n",
      "                     |   64.113% |   35.887% |   19.962% | \n",
      "                     |   18.249% |   23.983% |           | \n",
      "                     |   12.798% |    7.164% |           | \n",
      "                     |   -4.822  |    7.388  |           | \n",
      "---------------------|-----------|-----------|-----------|\n",
      "               28-32 |     2903  |     1369  |     4272  | \n",
      "                     | 2995.968  | 1276.032  |           | \n",
      "                     |    2.885  |    6.773  |           | \n",
      "                     |   67.954% |   32.046% |   18.938% | \n",
      "                     |   18.350% |   20.318% |           | \n",
      "                     |   12.869% |    6.069% |           | \n",
      "                     |   -1.698  |    2.603  |           | \n",
      "---------------------|-----------|-----------|-----------|\n",
      "               33-37 |     2630  |     1038  |     3668  | \n",
      "                     | 2572.381  | 1095.619  |           | \n",
      "                     |    1.291  |    3.030  |           | \n",
      "                     |   71.701% |   28.299% |   16.260% | \n",
      "                     |   16.625% |   15.405% |           | \n",
      "                     |   11.659% |    4.601% |           | \n",
      "                     |    1.136  |   -1.741  |           | \n",
      "---------------------|-----------|-----------|-----------|\n",
      "               38-42 |     1921  |      699  |     2620  | \n",
      "                     | 1837.415  |  782.585  |           | \n",
      "                     |    3.802  |    8.927  |           | \n",
      "                     |   73.321% |   26.679% |   11.615% | \n",
      "                     |   12.143% |   10.374% |           | \n",
      "                     |    8.516% |    3.099% |           | \n",
      "                     |    1.950  |   -2.988  |           | \n",
      "---------------------|-----------|-----------|-----------|\n",
      "               43-47 |     1767  |      586  |     2353  | \n",
      "                     | 1650.167  |  702.833  |           | \n",
      "                     |    8.272  |   19.421  |           | \n",
      "                     |   75.096% |   24.904% |   10.431% | \n",
      "                     |   11.169% |    8.697% |           | \n",
      "                     |    7.833% |    2.598% |           | \n",
      "                     |    2.876  |   -4.407  |           | \n",
      "---------------------|-----------|-----------|-----------|\n",
      "         48 or older |     2696  |      676  |     3372  | \n",
      "                     | 2364.795  | 1007.205  |           | \n",
      "                     |   46.388  |  108.912  |           | \n",
      "                     |   79.953% |   20.047% |   14.948% | \n",
      "                     |   17.042% |   10.033% |           | \n",
      "                     |   11.951% |    2.997% |           | \n",
      "                     |    6.811  |  -10.436  |           | \n",
      "---------------------|-----------|-----------|-----------|\n",
      "        Column Total |    15820  |     6738  |    22558  | \n",
      "                     |   70.130% |   29.870% |           | \n",
      "---------------------|-----------|-----------|-----------|\n",
      "\n",
      " \n",
      "Statistics for All Table Factors\n",
      "\n",
      "\n",
      "Pearson's Chi-squared test \n",
      "------------------------------------------------------------\n",
      "Chi^2 =  424.4528     d.f. =  6     p =  1.541394e-88 \n",
      "\n",
      "\n",
      " \n",
      "       Minimum expected frequency: 528.6931 \n",
      "\n",
      "\n",
      "   Cell Contents\n",
      "|-------------------------|\n",
      "|                   Count |\n",
      "|         Expected Values |\n",
      "| Chi-square contribution |\n",
      "|             Row Percent |\n",
      "|          Column Percent |\n",
      "|           Total Percent |\n",
      "|            Std Residual |\n",
      "|-------------------------|\n",
      "\n",
      "Total Observations in Table:  22558 \n",
      "\n",
      "                     | data2$Recidivism_Within_3years \n",
      "data2$Age_at_Release |    false  |     true  | Row Total | \n",
      "---------------------|-----------|-----------|-----------|\n",
      "               18-22 |      508  |     1262  |     1770  | \n",
      "                     |  746.118  | 1023.882  |           | \n",
      "                     |   75.994  |   55.378  |           | \n",
      "                     |   28.701% |   71.299% |    7.846% | \n",
      "                     |    5.342% |    9.671% |           | \n",
      "                     |    2.252% |    5.594% |           | \n",
      "                     |   -8.717  |    7.442  |           | \n",
      "---------------------|-----------|-----------|-----------|\n",
      "               23-27 |     1521  |     2982  |     4503  | \n",
      "                     | 1898.175  | 2604.825  |           | \n",
      "                     |   74.946  |   54.614  |           | \n",
      "                     |   33.777% |   66.223% |   19.962% | \n",
      "                     |   15.995% |   22.852% |           | \n",
      "                     |    6.743% |   13.219% |           | \n",
      "                     |   -8.657  |    7.390  |           | \n",
      "---------------------|-----------|-----------|-----------|\n",
      "               28-32 |     1620  |     2652  |     4272  | \n",
      "                     | 1800.800  | 2471.200  |           | \n",
      "                     |   18.152  |   13.228  |           | \n",
      "                     |   37.921% |   62.079% |   18.938% | \n",
      "                     |   17.036% |   20.323% |           | \n",
      "                     |    7.181% |   11.756% |           | \n",
      "                     |   -4.261  |    3.637  |           | \n",
      "---------------------|-----------|-----------|-----------|\n",
      "               33-37 |     1549  |     2119  |     3668  | \n",
      "                     | 1546.193  | 2121.807  |           | \n",
      "                     |    0.005  |    0.004  |           | \n",
      "                     |   42.230% |   57.770% |   16.260% | \n",
      "                     |   16.290% |   16.239% |           | \n",
      "                     |    6.867% |    9.394% |           | \n",
      "                     |    0.071  |   -0.061  |           | \n",
      "---------------------|-----------|-----------|-----------|\n",
      "               38-42 |     1222  |     1398  |     2620  | \n",
      "                     | 1104.423  | 1515.577  |           | \n",
      "                     |   12.517  |    9.121  |           | \n",
      "                     |   46.641% |   53.359% |   11.615% | \n",
      "                     |   12.851% |   10.713% |           | \n",
      "                     |    5.417% |    6.197% |           | \n",
      "                     |    3.538  |   -3.020  |           | \n",
      "---------------------|-----------|-----------|-----------|\n",
      "               43-47 |     1150  |     1203  |     2353  | \n",
      "                     |  991.873  | 1361.127  |           | \n",
      "                     |   25.209  |   18.370  |           | \n",
      "                     |   48.874% |   51.126% |   10.431% | \n",
      "                     |   12.094% |    9.219% |           | \n",
      "                     |    5.098% |    5.333% |           | \n",
      "                     |    5.021  |   -4.286  |           | \n",
      "---------------------|-----------|-----------|-----------|\n",
      "         48 or older |     1939  |     1433  |     3372  | \n",
      "                     | 1421.418  | 1950.582  |           | \n",
      "                     |  188.467  |  137.339  |           | \n",
      "                     |   57.503% |   42.497% |   14.948% | \n",
      "                     |   20.391% |   10.982% |           | \n",
      "                     |    8.596% |    6.353% |           | \n",
      "                     |   13.728  |  -11.719  |           | \n",
      "---------------------|-----------|-----------|-----------|\n",
      "        Column Total |     9509  |    13049  |    22558  | \n",
      "                     |   42.154% |   57.846% |           | \n",
      "---------------------|-----------|-----------|-----------|\n",
      "\n",
      " \n",
      "Statistics for All Table Factors\n",
      "\n",
      "\n",
      "Pearson's Chi-squared test \n",
      "------------------------------------------------------------\n",
      "Chi^2 =  683.3449     d.f. =  6     p =  2.411358e-144 \n",
      "\n",
      "\n",
      " \n",
      "       Minimum expected frequency: 746.118 \n",
      "\n"
     ]
    }
   ],
   "source": [
    "#age\n",
    "#youngings are not returning to jail way less than expected but also way more than expected? \n",
    "#only the rates of return for 33-37 are within non significant expectations. \n",
    "\n",
    "CrossTable(data2$Age_at_Release, data2$Prison_Offense, chisq = TRUE, expected = TRUE, sresid=TRUE, format=\"SPSS\")\n",
    "#Chi^2 =  707.2387     d.f. =  24     p =  7.438758e-134\n",
    "#young people are doing more property and violent/ non-sex crime than expected. middle aged do more drug and other crimes than expected. while no longer doing property and violent as expected.\n",
    "#older folks get more into drugs and back into property crimes, while also committing violent sex crimes, but not other.\n",
    "\n",
    "CrossTable(data2$Age_at_Release, data2$Recidivism_Arrest_Year1, chisq = TRUE, expected = TRUE, sresid=TRUE, format=\"SPSS\")\n",
    "#Chi^2 =  424.4528     d.f. =  6     p =  1.541394e-88\n",
    "#all significantly different from expected except 20s-30s\n",
    "\n",
    "CrossTable(data2$Age_at_Release, data2$Recidivism_Within_3years, chisq = TRUE, expected = TRUE, sresid=TRUE, format=\"SPSS\")\n",
    "#Chi^2 =  683.3449     d.f. =  6     p =  2.411358e-144\n",
    "#all different than expected except people in their 20s"
   ]
  },
  {
   "cell_type": "code",
   "execution_count": 13,
   "id": "64d2654c",
   "metadata": {
    "collapsed": true,
    "vscode": {
     "languageId": "r"
    }
   },
   "outputs": [
    {
     "name": "stdout",
     "output_type": "stream",
     "text": [
      "\n",
      "   Cell Contents\n",
      "|-------------------------|\n",
      "|                   Count |\n",
      "|         Expected Values |\n",
      "| Chi-square contribution |\n",
      "|             Row Percent |\n",
      "|          Column Percent |\n",
      "|           Total Percent |\n",
      "|            Std Residual |\n",
      "|-------------------------|\n",
      "\n",
      "Total Observations in Table:  22558 \n",
      "\n",
      "                      | data2$Prison_Offense \n",
      "data2$Education_Level |            Drug  |           Other  |        Property  | Violent/Non-Sex  |     Violent/Sex  |       Row Total | \n",
      "----------------------|-----------------|-----------------|-----------------|-----------------|-----------------|-----------------|\n",
      "At least some college |            881  |            417  |           1329  |           1049  |            202  |           3878  | \n",
      "                      |        892.225  |        477.745  |       1424.122  |        941.220  |        142.687  |                 | \n",
      "                      |          0.141  |          7.724  |          6.354  |         12.342  |         24.655  |                 | \n",
      "                      |         22.718% |         10.753% |         34.270% |         27.050% |          5.209% |         17.191% | \n",
      "                      |         16.975% |         15.005% |         16.043% |         19.160% |         24.337% |                 | \n",
      "                      |          3.905% |          1.849% |          5.891% |          4.650% |          0.895% |                 | \n",
      "                      |         -0.376  |         -2.779  |         -2.521  |          3.513  |          4.965  |                 | \n",
      "----------------------|-----------------|-----------------|-----------------|-----------------|-----------------|-----------------|\n",
      "  High School Diploma |           2292  |           1289  |           3760  |           2276  |            380  |           9997  | \n",
      "                      |       2300.046  |       1231.566  |       3671.210  |       2426.349  |        367.830  |                 | \n",
      "                      |          0.028  |          2.678  |          2.147  |          9.316  |          0.403  |                 | \n",
      "                      |         22.927% |         12.894% |         37.611% |         22.767% |          3.801% |         44.317% | \n",
      "                      |         44.162% |         46.384% |         45.389% |         41.571% |         45.783% |                 | \n",
      "                      |         10.160% |          5.714% |         16.668% |         10.090% |          1.685% |                 | \n",
      "                      |         -0.168  |          1.637  |          1.465  |         -3.052  |          0.635  |                 | \n",
      "----------------------|-----------------|-----------------|-----------------|-----------------|-----------------|-----------------|\n",
      " Less than HS diploma |           2017  |           1073  |           3195  |           2150  |            248  |           8683  | \n",
      "                      |       1997.729  |       1069.690  |       3188.668  |       2107.431  |        319.483  |                 | \n",
      "                      |          0.186  |          0.010  |          0.013  |          0.860  |         15.994  |                 | \n",
      "                      |         23.229% |         12.357% |         36.796% |         24.761% |          2.856% |         38.492% | \n",
      "                      |         38.863% |         38.611% |         38.568% |         39.269% |         29.880% |                 | \n",
      "                      |          8.941% |          4.757% |         14.163% |          9.531% |          1.099% |                 | \n",
      "                      |          0.431  |          0.101  |          0.112  |          0.927  |         -3.999  |                 | \n",
      "----------------------|-----------------|-----------------|-----------------|-----------------|-----------------|-----------------|\n",
      "         Column Total |           5190  |           2779  |           8284  |           5475  |            830  |          22558  | \n",
      "                      |         23.007% |         12.319% |         36.723% |         24.271% |          3.679% |                 | \n",
      "----------------------|-----------------|-----------------|-----------------|-----------------|-----------------|-----------------|\n",
      "\n",
      " \n",
      "Statistics for All Table Factors\n",
      "\n",
      "\n",
      "Pearson's Chi-squared test \n",
      "------------------------------------------------------------\n",
      "Chi^2 =  82.85111     d.f. =  8     p =  1.301896e-14 \n",
      "\n",
      "\n",
      " \n",
      "       Minimum expected frequency: 142.6873 \n",
      "\n",
      "\n",
      "   Cell Contents\n",
      "|-------------------------|\n",
      "|                   Count |\n",
      "|         Expected Values |\n",
      "| Chi-square contribution |\n",
      "|             Row Percent |\n",
      "|          Column Percent |\n",
      "|           Total Percent |\n",
      "|            Std Residual |\n",
      "|-------------------------|\n",
      "\n",
      "Total Observations in Table:  22558 \n",
      "\n",
      "                      | data2$Recidivism_Arrest_Year1 \n",
      "data2$Education_Level |    false  |     true  | Row Total | \n",
      "----------------------|-----------|-----------|-----------|\n",
      "At least some college |     3003  |      875  |     3878  | \n",
      "                      | 2719.654  | 1158.346  |           | \n",
      "                      |   29.520  |   69.310  |           | \n",
      "                      |   77.437% |   22.563% |   17.191% | \n",
      "                      |   18.982% |   12.986% |           | \n",
      "                      |   13.312% |    3.879% |           | \n",
      "                      |    5.433  |   -8.325  |           | \n",
      "----------------------|-----------|-----------|-----------|\n",
      "  High School Diploma |     6877  |     3120  |     9997  | \n",
      "                      | 7010.929  | 2986.071  |           | \n",
      "                      |    2.558  |    6.007  |           | \n",
      "                      |   68.791% |   31.209% |   44.317% | \n",
      "                      |   43.470% |   46.305% |           | \n",
      "                      |   30.486% |   13.831% |           | \n",
      "                      |   -1.600  |    2.451  |           | \n",
      "----------------------|-----------|-----------|-----------|\n",
      " Less than HS diploma |     5940  |     2743  |     8683  | \n",
      "                      | 6089.417  | 2593.583  |           | \n",
      "                      |    3.666  |    8.608  |           | \n",
      "                      |   68.410% |   31.590% |   38.492% | \n",
      "                      |   37.547% |   40.709% |           | \n",
      "                      |   26.332% |   12.160% |           | \n",
      "                      |   -1.915  |    2.934  |           | \n",
      "----------------------|-----------|-----------|-----------|\n",
      "         Column Total |    15820  |     6738  |    22558  | \n",
      "                      |   70.130% |   29.870% |           | \n",
      "----------------------|-----------|-----------|-----------|\n",
      "\n",
      " \n",
      "Statistics for All Table Factors\n",
      "\n",
      "\n",
      "Pearson's Chi-squared test \n",
      "------------------------------------------------------------\n",
      "Chi^2 =  119.6696     d.f. =  2     p =  1.032931e-26 \n",
      "\n",
      "\n",
      " \n",
      "       Minimum expected frequency: 1158.346 \n",
      "\n",
      "\n",
      "   Cell Contents\n",
      "|-------------------------|\n",
      "|                   Count |\n",
      "|         Expected Values |\n",
      "| Chi-square contribution |\n",
      "|             Row Percent |\n",
      "|          Column Percent |\n",
      "|           Total Percent |\n",
      "|            Std Residual |\n",
      "|-------------------------|\n",
      "\n",
      "Total Observations in Table:  22558 \n",
      "\n",
      "                      | data2$Recidivism_Within_3years \n",
      "data2$Education_Level |    false  |     true  | Row Total | \n",
      "----------------------|-----------|-----------|-----------|\n",
      "At least some college |     2146  |     1732  |     3878  | \n",
      "                      | 1634.715  | 2243.285  |           | \n",
      "                      |  159.913  |  116.531  |           | \n",
      "                      |   55.338% |   44.662% |   17.191% | \n",
      "                      |   22.568% |   13.273% |           | \n",
      "                      |    9.513% |    7.678% |           | \n",
      "                      |   12.646  |  -10.795  |           | \n",
      "----------------------|-----------|-----------|-----------|\n",
      "  High School Diploma |     3951  |     6046  |     9997  | \n",
      "                      | 4214.091  | 5782.909  |           | \n",
      "                      |   16.425  |   11.969  |           | \n",
      "                      |   39.522% |   60.478% |   44.317% | \n",
      "                      |   41.550% |   46.333% |           | \n",
      "                      |   17.515% |   26.802% |           | \n",
      "                      |   -4.053  |    3.460  |           | \n",
      "----------------------|-----------|-----------|-----------|\n",
      " Less than HS diploma |     3412  |     5271  |     8683  | \n",
      "                      | 3660.194  | 5022.806  |           | \n",
      "                      |   16.830  |   12.264  |           | \n",
      "                      |   39.295% |   60.705% |   38.492% | \n",
      "                      |   35.882% |   40.394% |           | \n",
      "                      |   15.125% |   23.366% |           | \n",
      "                      |   -4.102  |    3.502  |           | \n",
      "----------------------|-----------|-----------|-----------|\n",
      "         Column Total |     9509  |    13049  |    22558  | \n",
      "                      |   42.154% |   57.846% |           | \n",
      "----------------------|-----------|-----------|-----------|\n",
      "\n",
      " \n",
      "Statistics for All Table Factors\n",
      "\n",
      "\n",
      "Pearson's Chi-squared test \n",
      "------------------------------------------------------------\n",
      "Chi^2 =  333.9323     d.f. =  2     p =  3.072726e-73 \n",
      "\n",
      "\n",
      " \n",
      "       Minimum expected frequency: 1634.715 \n",
      "\n"
     ]
    }
   ],
   "source": [
    "#education level\n",
    "CrossTable(data2$Education_Level, data2$Prison_Offense, chisq = TRUE, expected = TRUE, sresid=TRUE, format=\"SPSS\")\n",
    "#Chi^2 =  82.85111     d.f. =  8     p =  1.301896e-14 \n",
    "#more than college educated than expected were committing violent crimes. committing less property crime than expected. high school only were\n",
    "#doing less violent/ non sex crime than expected, while no diploma people were doing less violent/ sex crime than expected. \n",
    "#So highly educated people were more violent than expected!\n",
    "\n",
    "CrossTable(data2$Education_Level, data2$Recidivism_Arrest_Year1, chisq = TRUE, expected = TRUE, sresid=TRUE, format=\"SPSS\")\n",
    "#Chi^2 =  119.6696     d.f. =  2     p =  1.032931e-26\n",
    "#unexpected only at college level\n",
    "\n",
    "CrossTable(data2$Education_Level, data2$Recidivism_Within_3years, chisq = TRUE, expected = TRUE, sresid=TRUE, format=\"SPSS\")\n",
    "#Chi^2 =  333.9323     d.f. =  2     p =  3.072726e-73\n",
    "#all unexpected"
   ]
  },
  {
   "cell_type": "code",
   "execution_count": 20,
   "id": "089a001b",
   "metadata": {
    "vscode": {
     "languageId": "r"
    }
   },
   "outputs": [
    {
     "name": "stdout",
     "output_type": "stream",
     "text": [
      "\n",
      "   Cell Contents\n",
      "|-------------------------|\n",
      "|                   Count |\n",
      "|         Expected Values |\n",
      "| Chi-square contribution |\n",
      "|             Row Percent |\n",
      "|          Column Percent |\n",
      "|           Total Percent |\n",
      "|            Std Residual |\n",
      "|-------------------------|\n",
      "\n",
      "Total Observations in Table:  22558 \n",
      "\n",
      "             | data2$Recidivism_Arrest_Year1 \n",
      "data2$Gender |    false  |     true  | Row Total | \n",
      "-------------|-----------|-----------|-----------|\n",
      "           F |     2226  |      598  |     2824  | \n",
      "             | 1980.481  |  843.519  |           | \n",
      "             |   30.437  |   71.462  |           | \n",
      "             |   78.824% |   21.176% |   12.519% | \n",
      "             |   14.071% |    8.875% |           | \n",
      "             |    9.868% |    2.651% |           | \n",
      "             |    5.517  |   -8.454  |           | \n",
      "-------------|-----------|-----------|-----------|\n",
      "           M |    13594  |     6140  |    19734  | \n",
      "             | 13839.519  | 5894.481  |           | \n",
      "             |    4.356  |   10.226  |           | \n",
      "             |   68.886% |   31.114% |   87.481% | \n",
      "             |   85.929% |   91.125% |           | \n",
      "             |   60.262% |   27.219% |           | \n",
      "             |   -2.087  |    3.198  |           | \n",
      "-------------|-----------|-----------|-----------|\n",
      "Column Total |    15820  |     6738  |    22558  | \n",
      "             |   70.130% |   29.870% |           | \n",
      "-------------|-----------|-----------|-----------|\n",
      "\n",
      " \n",
      "Statistics for All Table Factors\n",
      "\n",
      "\n",
      "Pearson's Chi-squared test \n",
      "------------------------------------------------------------\n",
      "Chi^2 =  116.4813     d.f. =  1     p =  3.72873e-27 \n",
      "\n",
      "Pearson's Chi-squared test with Yates' continuity correction \n",
      "------------------------------------------------------------\n",
      "Chi^2 =  116.0074     d.f. =  1     p =  4.735301e-27 \n",
      "\n",
      " \n",
      "McNemar's Chi-squared test \n",
      "------------------------------------------------------------\n",
      "Chi^2 =  11900.79     d.f. =  1     p =  0 \n",
      "\n",
      "McNemar's Chi-squared test with continuity correction \n",
      "------------------------------------------------------------\n",
      "Chi^2 =  11898.96     d.f. =  1     p =  0 \n",
      "\n",
      " \n",
      "       Minimum expected frequency: 843.5195 \n",
      "\n",
      "\n",
      "   Cell Contents\n",
      "|-------------------------|\n",
      "|                   Count |\n",
      "|         Expected Values |\n",
      "| Chi-square contribution |\n",
      "|             Row Percent |\n",
      "|          Column Percent |\n",
      "|           Total Percent |\n",
      "|            Std Residual |\n",
      "|-------------------------|\n",
      "\n",
      "Total Observations in Table:  22558 \n",
      "\n",
      "             | data2$Recidivism_Within_3years \n",
      "data2$Gender |    false  |     true  | Row Total | \n",
      "-------------|-----------|-----------|-----------|\n",
      "           F |     1520  |     1304  |     2824  | \n",
      "             | 1190.417  | 1633.583  |           | \n",
      "             |   91.250  |   66.495  |           | \n",
      "             |   53.824% |   46.176% |   12.519% | \n",
      "             |   15.985% |    9.993% |           | \n",
      "             |    6.738% |    5.781% |           | \n",
      "             |    9.552  |   -8.154  |           | \n",
      "-------------|-----------|-----------|-----------|\n",
      "           M |     7989  |    11745  |    19734  | \n",
      "             | 8318.583  | 11415.417  |           | \n",
      "             |   13.058  |    9.516  |           | \n",
      "             |   40.483% |   59.517% |   87.481% | \n",
      "             |   84.015% |   90.007% |           | \n",
      "             |   35.415% |   52.066% |           | \n",
      "             |   -3.614  |    3.085  |           | \n",
      "-------------|-----------|-----------|-----------|\n",
      "Column Total |     9509  |    13049  |    22558  | \n",
      "             |   42.154% |   57.846% |           | \n",
      "-------------|-----------|-----------|-----------|\n",
      "\n",
      " \n",
      "Statistics for All Table Factors\n",
      "\n",
      "\n",
      "Pearson's Chi-squared test \n",
      "------------------------------------------------------------\n",
      "Chi^2 =  180.3187     d.f. =  1     p =  4.128938e-41 \n",
      "\n",
      "Pearson's Chi-squared test with Yates' continuity correction \n",
      "------------------------------------------------------------\n",
      "Chi^2 =  179.772     d.f. =  1     p =  5.435057e-41 \n",
      "\n",
      " \n",
      "McNemar's Chi-squared test \n",
      "------------------------------------------------------------\n",
      "Chi^2 =  4808.913     d.f. =  1     p =  0 \n",
      "\n",
      "McNemar's Chi-squared test with continuity correction \n",
      "------------------------------------------------------------\n",
      "Chi^2 =  4807.474     d.f. =  1     p =  0 \n",
      "\n",
      " \n",
      "       Minimum expected frequency: 1190.417 \n",
      "\n",
      "\n",
      "   Cell Contents\n",
      "|-------------------------|\n",
      "|                   Count |\n",
      "|         Expected Values |\n",
      "| Chi-square contribution |\n",
      "|             Row Percent |\n",
      "|          Column Percent |\n",
      "|           Total Percent |\n",
      "|            Std Residual |\n",
      "|-------------------------|\n",
      "\n",
      "Total Observations in Table:  22558 \n",
      "\n",
      "             | data2$Recidivism_Within_3years \n",
      "  data2$Race |    false  |     true  | Row Total | \n",
      "-------------|-----------|-----------|-----------|\n",
      "       BLACK |     5211  |     7500  |    12711  | \n",
      "             | 5358.139  | 7352.861  |           | \n",
      "             |    4.041  |    2.944  |           | \n",
      "             |   40.996% |   59.004% |   56.348% | \n",
      "             |   54.801% |   57.476% |           | \n",
      "             |   23.100% |   33.248% |           | \n",
      "             |   -2.010  |    1.716  |           | \n",
      "-------------|-----------|-----------|-----------|\n",
      "       WHITE |     4298  |     5549  |     9847  | \n",
      "             | 4150.861  | 5696.139  |           | \n",
      "             |    5.216  |    3.801  |           | \n",
      "             |   43.648% |   56.352% |   43.652% | \n",
      "             |   45.199% |   42.524% |           | \n",
      "             |   19.053% |   24.599% |           | \n",
      "             |    2.284  |   -1.950  |           | \n",
      "-------------|-----------|-----------|-----------|\n",
      "Column Total |     9509  |    13049  |    22558  | \n",
      "             |   42.154% |   57.846% |           | \n",
      "-------------|-----------|-----------|-----------|\n",
      "\n",
      " \n",
      "Statistics for All Table Factors\n",
      "\n",
      "\n",
      "Pearson's Chi-squared test \n",
      "------------------------------------------------------------\n",
      "Chi^2 =  16.00153     d.f. =  1     p =  6.329133e-05 \n",
      "\n",
      "Pearson's Chi-squared test with Yates' continuity correction \n",
      "------------------------------------------------------------\n",
      "Chi^2 =  15.89296     d.f. =  1     p =  6.702747e-05 \n",
      "\n",
      " \n",
      "McNemar's Chi-squared test \n",
      "------------------------------------------------------------\n",
      "Chi^2 =  869.029     d.f. =  1     p =  5.304904e-191 \n",
      "\n",
      "McNemar's Chi-squared test with continuity correction \n",
      "------------------------------------------------------------\n",
      "Chi^2 =  868.4863     d.f. =  1     p =  6.96086e-191 \n",
      "\n",
      " \n",
      "       Minimum expected frequency: 4150.861 \n",
      "\n",
      "\n",
      "   Cell Contents\n",
      "|-------------------------|\n",
      "|                   Count |\n",
      "|         Expected Values |\n",
      "| Chi-square contribution |\n",
      "|             Row Percent |\n",
      "|          Column Percent |\n",
      "|           Total Percent |\n",
      "|            Std Residual |\n",
      "|-------------------------|\n",
      "\n",
      "Total Observations in Table:  22558 \n",
      "\n",
      "             | data2$Recidivism_Arrest_Year1 \n",
      "  data2$Race |    false  |     true  | Row Total | \n",
      "-------------|-----------|-----------|-----------|\n",
      "       BLACK |     8715  |     3996  |    12711  | \n",
      "             | 8914.266  | 3796.734  |           | \n",
      "             |    4.454  |   10.458  |           | \n",
      "             |   68.563% |   31.437% |   56.348% | \n",
      "             |   55.088% |   59.305% |           | \n",
      "             |   38.634% |   17.714% |           | \n",
      "             |   -2.111  |    3.234  |           | \n",
      "-------------|-----------|-----------|-----------|\n",
      "       WHITE |     7105  |     2742  |     9847  | \n",
      "             | 6905.734  | 2941.266  |           | \n",
      "             |    5.750  |   13.500  |           | \n",
      "             |   72.154% |   27.846% |   43.652% | \n",
      "             |   44.912% |   40.695% |           | \n",
      "             |   31.497% |   12.155% |           | \n",
      "             |    2.398  |   -3.674  |           | \n",
      "-------------|-----------|-----------|-----------|\n",
      "Column Total |    15820  |     6738  |    22558  | \n",
      "             |   70.130% |   29.870% |           | \n",
      "-------------|-----------|-----------|-----------|\n",
      "\n",
      " \n",
      "Statistics for All Table Factors\n",
      "\n",
      "\n",
      "Pearson's Chi-squared test \n",
      "------------------------------------------------------------\n",
      "Chi^2 =  34.16241     d.f. =  1     p =  5.069888e-09 \n",
      "\n",
      "Pearson's Chi-squared test with Yates' continuity correction \n",
      "------------------------------------------------------------\n",
      "Chi^2 =  33.99118     d.f. =  1     p =  5.536234e-09 \n",
      "\n",
      " \n",
      "McNemar's Chi-squared test \n",
      "------------------------------------------------------------\n",
      "Chi^2 =  870.7216     d.f. =  1     p =  2.273525e-191 \n",
      "\n",
      "McNemar's Chi-squared test with continuity correction \n",
      "------------------------------------------------------------\n",
      "Chi^2 =  870.1616     d.f. =  1     p =  3.009195e-191 \n",
      "\n",
      " \n",
      "       Minimum expected frequency: 2941.266 \n",
      "\n"
     ]
    }
   ],
   "source": [
    "#gender\n",
    "CrossTable(data2$Gender, data2$Recidivism_Arrest_Year1,mcnemar = TRUE, expected = TRUE, sresid=TRUE, format=\"SPSS\")\n",
    "CrossTable(data2$Gender, data2$Recidivism_Within_3years,mcnemar = TRUE, expected = TRUE, sresid=TRUE, format=\"SPSS\")\n",
    "#not significant!\n",
    "#only unexpected in women\n",
    "#all unexpected\n",
    "\n",
    "#race\n",
    "CrossTable(data2$Race, data2$Recidivism_Within_3years,mcnemar = TRUE, expected = TRUE, sresid=TRUE, format=\"SPSS\")\n",
    "CrossTable(data2$Race, data2$Recidivism_Arrest_Year1,mcnemar = TRUE, expected = TRUE, sresid=TRUE, format=\"SPSS\")\n",
    "#significant according to the data\n",
    "#nothing too unexpected"
   ]
  },
  {
   "cell_type": "markdown",
   "id": "f48a0139",
   "metadata": {},
   "source": [
    "# prior convictions/ arrests\n",
    "### checked year one and within 3 for each conviction, looking at significance levels\n",
    "\n",
    "##### is there a correlation between type of prior conviciton and Going back in 1 year?\n",
    "###### p =  2.096466e-29 Felony\n",
    "##### p =  2.480982e-74 Misd\n",
    "##### p =  4.323178e-08 DV\n",
    "##### p =  3.935895e-07 violence\n",
    "##### p =  2.072056e-87 property\n",
    "##### p =  1.012044e-05 Drug\n",
    "##### p =  4.857211e-24 Parole?\n",
    "##### p =  0.007238079 Gun \n",
    "\n",
    "##### is there a correlation between type of prior conviciton and going back Within three years?\n",
    "##### p =  5.054938e-60 Felony\n",
    "##### p =  1.499764e-162 Misd\n",
    "##### p =  8.163754e-10 Violence\n",
    "##### p =  1.192821e-134 Property\n",
    "##### p =  6.323187e-28 Drug\n",
    "##### p =  2.099162e-50 Parole?\n",
    "##### p =  3.483925e-19 DV\n",
    "##### p =  7.488309e-06 Gun"
   ]
  },
  {
   "cell_type": "markdown",
   "id": "33a6d593",
   "metadata": {},
   "source": [
    "##### Prison offense (reiterates that year 1 is when most people return)\n",
    "##### p =  1.486091e-74 year 1\n",
    "##### p =  1.350871e-05 year 2\n",
    "##### p =  0.3963503 year 3\n",
    "##### p =  7.887262e-97 within 3"
   ]
  }
 ],
 "metadata": {
  "kernelspec": {
   "display_name": "R",
   "language": "R",
   "name": "ir"
  },
  "language_info": {
   "codemirror_mode": "r",
   "file_extension": ".r",
   "mimetype": "text/x-r-source",
   "name": "R",
   "pygments_lexer": "r",
   "version": "3.6.1"
  }
 },
 "nbformat": 4,
 "nbformat_minor": 5
}
