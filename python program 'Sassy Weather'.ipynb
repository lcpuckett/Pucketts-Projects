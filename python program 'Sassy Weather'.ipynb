{
 "cells": [
  {
   "cell_type": "markdown",
   "id": "7e04c735",
   "metadata": {},
   "source": [
    "### The New Age Weather Machine that has been hitting the apps! Up to date, Accurate, and lightning fast! Give it a try today!"
   ]
  },
  {
   "cell_type": "code",
   "execution_count": null,
   "id": "716b05d7-9014-45a0-9243-5b5ce9ad892f",
   "metadata": {
    "tags": []
   },
   "outputs": [
    {
     "name": "stdout",
     "output_type": "stream",
     "text": [
      "\n",
      "Welcome to the WeatherPro3000.2.4. You need some help understanding what's going on outside?! We are HERE for YOU! Let's get it going...\n",
      "Pick your weather condition from the list below and and enter the degrees in Fehrenheit.\n",
      "====================\n",
      "0. Sunny \n",
      "1. Snowy\n",
      "2. Hailing\n",
      "3. Raining\n",
      "4. Sleeting\n",
      "5. Cloudy\n",
      "6. Storming\n",
      "\n",
      "\n"
     ]
    },
    {
     "name": "stdin",
     "output_type": "stream",
     "text": [
      " 8\n"
     ]
    },
    {
     "name": "stdout",
     "output_type": "stream",
     "text": [
      "Stop trying to be funny and pick the right one!\n"
     ]
    },
    {
     "name": "stdin",
     "output_type": "stream",
     "text": [
      " as\n"
     ]
    },
    {
     "name": "stdout",
     "output_type": "stream",
     "text": [
      "\n",
      "Stop trying to be funny and pick the right one!\n"
     ]
    },
    {
     "name": "stdin",
     "output_type": "stream",
     "text": [
      " g\n"
     ]
    },
    {
     "name": "stdout",
     "output_type": "stream",
     "text": [
      "\n",
      "Stop trying to be funny and pick the right one!\n"
     ]
    },
    {
     "name": "stdin",
     "output_type": "stream",
     "text": [
      " 5\n"
     ]
    },
    {
     "name": "stdout",
     "output_type": "stream",
     "text": [
      "Okay, that's not too bad. Be ready for some rain\n"
     ]
    },
    {
     "name": "stdin",
     "output_type": "stream",
     "text": [
      "Please put in the degrees F for temperature \n",
      " 75\n"
     ]
    },
    {
     "name": "stdout",
     "output_type": "stream",
     "text": [
      "Well well well, must be nice having a perfect day\n"
     ]
    },
    {
     "name": "stdin",
     "output_type": "stream",
     "text": [
      "Want to check the weather again? (Y/N) y\n"
     ]
    },
    {
     "name": "stdout",
     "output_type": "stream",
     "text": [
      "ugh, what is the condition?\n"
     ]
    },
    {
     "name": "stdin",
     "output_type": "stream",
     "text": [
      " 4\n"
     ]
    },
    {
     "name": "stdout",
     "output_type": "stream",
     "text": [
      "What even is that?! Just stay inside hunny, truly\n"
     ]
    },
    {
     "name": "stdin",
     "output_type": "stream",
     "text": [
      "Please put in the degrees F for temperature \n",
      " 240\n"
     ]
    },
    {
     "name": "stdout",
     "output_type": "stream",
     "text": [
      "Now you know that wasn't right, pick a real option!\n"
     ]
    },
    {
     "name": "stdin",
     "output_type": "stream",
     "text": [
      "Please put in the degrees F for temperature \n",
      " d\n"
     ]
    },
    {
     "name": "stdout",
     "output_type": "stream",
     "text": [
      "\n",
      "Now you know that wasn't right, pick a real option!\n"
     ]
    },
    {
     "name": "stdin",
     "output_type": "stream",
     "text": [
      "Please put in the degrees F for temperature \n",
      " v\n"
     ]
    },
    {
     "name": "stdout",
     "output_type": "stream",
     "text": [
      "\n",
      "Now you know that wasn't right, pick a real option!\n"
     ]
    },
    {
     "name": "stdin",
     "output_type": "stream",
     "text": [
      "Please put in the degrees F for temperature \n",
      " u\n"
     ]
    },
    {
     "name": "stdout",
     "output_type": "stream",
     "text": [
      "\n",
      "Now you know that wasn't right, pick a real option!\n"
     ]
    },
    {
     "name": "stdin",
     "output_type": "stream",
     "text": [
      "Please put in the degrees F for temperature \n",
      " a\n"
     ]
    },
    {
     "name": "stdout",
     "output_type": "stream",
     "text": [
      "\n",
      "Now you know that wasn't right, pick a real option!\n"
     ]
    },
    {
     "name": "stdin",
     "output_type": "stream",
     "text": [
      "Please put in the degrees F for temperature \n",
      " -40\n"
     ]
    },
    {
     "name": "stdout",
     "output_type": "stream",
     "text": [
      "Do you live in the arctic??\n"
     ]
    },
    {
     "name": "stdin",
     "output_type": "stream",
     "text": [
      "Want to check the weather again? (Y/N) Y\n"
     ]
    },
    {
     "name": "stdout",
     "output_type": "stream",
     "text": [
      "ugh, what is the condition?\n"
     ]
    },
    {
     "name": "stdin",
     "output_type": "stream",
     "text": [
      " gege\n"
     ]
    },
    {
     "name": "stdout",
     "output_type": "stream",
     "text": [
      "\n",
      "What even is that?! Just stay inside hunny, truly\n"
     ]
    },
    {
     "name": "stdin",
     "output_type": "stream",
     "text": [
      "Please put in the degrees F for temperature \n",
      " f\n"
     ]
    }
   ],
   "source": [
    "#set up a list of the used conditions\n",
    "temperature =range(-130,200)\n",
    "condition= [\n",
    "    {0, 'Sunny'},\n",
    "    {1, 'Snowy'},\n",
    "    {2, 'Hailing'},\n",
    "    {3, 'Raining'},\n",
    "    {4, 'Sleeting'},\n",
    "    {5, 'Cloudy'},\n",
    "    {6, 'Storming'}\n",
    "]\n",
    "\n",
    "#\"\"\"i created definitions that will loop through the lists and temperature options instead of trying to get them in the program directly\n",
    "# my next plan would be to make a full app- like program that runs the welcome message on an interface\"\"\"\n",
    "cond = 7\n",
    "temp = 200\n",
    "ON = True\n",
    "def show_condition():\n",
    "    global cond\n",
    "    while cond != \"7\":\n",
    "        try:\n",
    "            cond= int(input())\n",
    "        except:\n",
    "            if cond != int():\n",
    "                print()\n",
    "            \n",
    "        if cond == 0:\n",
    "            print(\"All clear skies over here\")\n",
    "            break\n",
    "        if cond == 1:\n",
    "            print(\"Be careful out there, it could get slippery!\")\n",
    "            break\n",
    "        if cond== 2:\n",
    "            print(\"Watch your heads! drops of ice hard as rock falling\")\n",
    "            break\n",
    "        if cond== 3:\n",
    "            print(\"Don't go out if you don't want to melt chile\")\n",
    "            break\n",
    "        if cond== 4:\n",
    "            print(\"What even is that?! Just stay inside hunny, truly\")\n",
    "            break\n",
    "        if cond== 5:\n",
    "            print(\"Okay, that's not too bad. Be ready for some rain\")\n",
    "            break\n",
    "        if cond== 6:\n",
    "            print(\"Now you know what I will say... What business do you have being out in a storm?!\")\n",
    "            break\n",
    "        if cond> 6 :\n",
    "            print(\"Stop trying to be funny and pick the right one!\")\n",
    "            cond = 7   \n",
    "\n",
    "\n",
    "def paste_temp():\n",
    "    global temp\n",
    "    while temp != \"200\" :\n",
    "        try:\n",
    "            temp=(int(input(\"Please put in the degrees F for temperature \\n\")))\n",
    "        except:\n",
    "            if temp != int():\n",
    "                print()\n",
    "        \n",
    "        if temp <= -30:\n",
    "            print(\"Do you live in the arctic??\")\n",
    "            break\n",
    "        elif temp <=20:\n",
    "            print(\"Oof, it's a chilly one\")\n",
    "            break\n",
    "        elif temp <= 50:\n",
    "            print(\"Tis cold\")\n",
    "            break\n",
    "        elif temp <=77:\n",
    "            print(\"Well well well, must be nice having a perfect day\")\n",
    "            break\n",
    "        elif temp <=130:\n",
    "            print(\"Oh naw! That's too hot!\")\n",
    "            break\n",
    "        else:\n",
    "            print(\"Now you know that wasn't right, pick a real option!\")\n",
    "            temp = 200\n",
    "\n",
    "def program():\n",
    "    global ON\n",
    "    while ON != \"True\":    \n",
    "        ON = (input(\"Want to check the weather again? (Y/N)\"))\n",
    "        if ON == 'Y' or ON =='y':\n",
    "            print(\"ugh, what is the condition?\")\n",
    "            show_condition()\n",
    "            paste_temp()     \n",
    "        elif ON =='N' or ON == 'n': \n",
    "            print(\"\"\" Thank you for using our serivces \\nBest of Luck!\"\"\")\n",
    "            break\n",
    "            exit()\n",
    "        else:\n",
    "            print (\"nice try, jokester... try again\")\n",
    "            ON =True\n",
    "\n",
    "            \n",
    "#made a welcome message \n",
    "weather_text = \"\"\"\n",
    "Welcome to the WeatherPro3000.2.4. You need some help understanding what's going on outside?! We are HERE for YOU! Let's get it going...\n",
    "Pick your weather condition from the list below and and enter the degrees in Fehrenheit.\n",
    "====================\n",
    "0. Sunny \n",
    "1. Snowy\n",
    "2. Hailing\n",
    "3. Raining\n",
    "4. Sleeting\n",
    "5. Cloudy\n",
    "6. Storming\n",
    "\n",
    "\"\"\"\n",
    "#started program, wanted to keep the actual program clean and simple, so used functions with loops embedded \n",
    "#rather than putting the loops in the program. working on making a \"want to check another temp?\" portion directly in program \n",
    "while cond == 7:\n",
    "    print(weather_text)\n",
    "    show_condition()\n",
    "while temp == 200:\n",
    "    paste_temp()\n",
    "while ON == True:\n",
    "    program()"
   ]
  }
 ],
 "metadata": {
  "interpreter": {
   "hash": "3bd13bc16400e16874b7ce28af58a129343287e94248a182c1f06fbb6b76ef8e"
  },
  "kernelspec": {
   "display_name": "Python 3 (ipykernel)",
   "language": "python",
   "name": "python3"
  },
  "language_info": {
   "codemirror_mode": {
    "name": "ipython",
    "version": 3
   },
   "file_extension": ".py",
   "mimetype": "text/x-python",
   "name": "python",
   "nbconvert_exporter": "python",
   "pygments_lexer": "ipython3",
   "version": "3.10.2"
  }
 },
 "nbformat": 4,
 "nbformat_minor": 5
}
